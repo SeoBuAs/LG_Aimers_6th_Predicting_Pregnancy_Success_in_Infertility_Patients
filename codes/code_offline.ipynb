{
 "cells": [
  {
   "cell_type": "markdown",
   "metadata": {},
   "source": [
    "# 임신 성공 확률 예측 🕵️\n",
    "### 제공된 데이터를 분석하고 🧐, 임신 성공 여부 확률 Model 을 학습합니다 📖."
   ]
  },
  {
   "cell_type": "markdown",
   "metadata": {},
   "source": [
    "## Table of Contents\n",
    "1. Library Import\n",
    "2. Load Data\n",
    "3. 데이터 보정  \n",
    "    3-1. function  \n",
    "    3-2. 보정 적용  \n",
    "    3-3. 추가 파생 변수  \n",
    "4. 데이터 매핑\n",
    "5. Model Training\n",
    "6. Inference\n"
   ]
  },
  {
   "cell_type": "markdown",
   "metadata": {},
   "source": [
    "## 1. Library Import\n",
    "- (Kaggle 환경을 사용하였습니다. 필수 라이브러리 목록은 하단과 같습니다.)\n",
    "- Python version: 3.10.12\n",
    "- numpy==1.26.4\n",
    "- pandas==2.2.2\n",
    "- scikit-learn==1.2.2\n",
    "- xgboost==2.0.3\n",
    "- lightgbm==4.5.0\n",
    "- catboost==1.2.7\n",
    "- scipy==1.13.1\n",
    "- pip install numpy==1.26.4 pandas==2.2.2 scikit-learn==1.2.2 xgboost==2.0.3 lightgbm==4.5.0 catboost==1.2.7 scipy==1.13.1"
   ]
  },
  {
   "cell_type": "code",
   "execution_count": 1,
   "metadata": {
    "execution": {
     "iopub.execute_input": "2025-02-27T03:52:22.352033Z",
     "iopub.status.busy": "2025-02-27T03:52:22.351681Z",
     "iopub.status.idle": "2025-02-27T03:52:27.130844Z",
     "shell.execute_reply": "2025-02-27T03:52:27.129816Z",
     "shell.execute_reply.started": "2025-02-27T03:52:22.352002Z"
    },
    "trusted": true
   },
   "outputs": [],
   "source": [
    "# basic\n",
    "import os\n",
    "import random\n",
    "\n",
    "import numpy as np\n",
    "import pandas as pd\n",
    "\n",
    "# scikit-learn 관련\n",
    "from sklearn.linear_model import LogisticRegression\n",
    "\n",
    "# xgboost\n",
    "from xgboost import XGBClassifier\n",
    "\n",
    "# lightgbm\n",
    "from lightgbm import LGBMClassifier\n",
    "\n",
    "# catboost\n",
    "from catboost import CatBoostClassifier, Pool\n",
    "\n",
    "# 랜덤 시드 설정\n",
    "SEED = 42\n",
    "random.seed(SEED)\n",
    "np.random.seed(SEED)\n",
    "os.environ[\"PYTHONHASHSEED\"] = str(SEED)\n",
    "os.environ[\"CUDA_LAUNCH_BLOCKING\"] = \"1\"\n",
    "os.environ[\"CUBLAS_WORKSPACE_CONFIG\"] = \":16:8\""
   ]
  },
  {
   "cell_type": "markdown",
   "metadata": {},
   "source": [
    "## 2. Load Data\n",
    "- Data 위치에 맞게 재설정 해주시면 감사하겠습니다."
   ]
  },
  {
   "cell_type": "code",
   "execution_count": null,
   "metadata": {
    "execution": {
     "iopub.execute_input": "2025-02-27T03:52:27.133081Z",
     "iopub.status.busy": "2025-02-27T03:52:27.132265Z",
     "iopub.status.idle": "2025-02-27T03:52:32.585622Z",
     "shell.execute_reply": "2025-02-27T03:52:32.584527Z",
     "shell.execute_reply.started": "2025-02-27T03:52:27.133039Z"
    },
    "trusted": true
   },
   "outputs": [],
   "source": [
    "# load data\n",
    "train = pd.read_csv('./data/train.csv').drop(columns='ID')\n",
    "test = pd.read_csv('./data/test.csv').drop(columns='ID')\n",
    "df_sub = pd.read_csv('./data/sample_submission.csv')"
   ]
  },
  {
   "cell_type": "markdown",
   "metadata": {},
   "source": [
    "## 3. 데이터 보정\n",
    "- 데이터 안에서 어긋나있는 내용을 조절하기 위해 적용한 구간입니다.\n",
    "- 현재 조정된 값은 다음과 같습니다.\n",
    "    - 난자 수\n",
    "    - 배아 수\n",
    "    - 정자 출처"
   ]
  },
  {
   "cell_type": "markdown",
   "metadata": {},
   "source": [
    "### 3-1. 함수 모음\n",
    "\n",
    "- 혼합 된 난자의 수가 맞지 않은 구간에서 해결되지 않은 값을 받기 위해 미리 '확인되지 않은 혼합된 난자 수' 칼럼을 생성하였습니다."
   ]
  },
  {
   "cell_type": "code",
   "execution_count": 3,
   "metadata": {
    "execution": {
     "iopub.execute_input": "2025-02-27T03:52:32.587955Z",
     "iopub.status.busy": "2025-02-27T03:52:32.587544Z",
     "iopub.status.idle": "2025-02-27T03:52:32.594615Z",
     "shell.execute_reply": "2025-02-27T03:52:32.593552Z",
     "shell.execute_reply.started": "2025-02-27T03:52:32.587917Z"
    },
    "trusted": true
   },
   "outputs": [],
   "source": [
    "# 미할당 정자 수 칼럼 생성\n",
    "train['확인되지 않은 혼합된 난자 수'] = 0\n",
    "test['확인되지 않은 혼합된 난자 수'] = 0"
   ]
  },
  {
   "cell_type": "code",
   "execution_count": 4,
   "metadata": {
    "execution": {
     "iopub.execute_input": "2025-02-27T03:52:32.596344Z",
     "iopub.status.busy": "2025-02-27T03:52:32.596028Z",
     "iopub.status.idle": "2025-02-27T03:52:32.702811Z",
     "shell.execute_reply": "2025-02-27T03:52:32.701681Z",
     "shell.execute_reply.started": "2025-02-27T03:52:32.596284Z"
    },
    "trusted": true
   },
   "outputs": [],
   "source": [
    "# 혼합된 난자 수 보정하기\n",
    "def nanja_count_settings(data):\n",
    "    cri = [\n",
    "        (data['혼합된 난자 수'] == data['파트너 정자와 혼합된 난자 수'] + data['기증자 정자와 혼합된 난자 수'] + data['확인되지 않은 혼합된 난자 수']) & ~(data['혼합된 난자 수'].isna()),\n",
    "        (data['혼합된 난자 수'] > data['파트너 정자와 혼합된 난자 수'] + data['기증자 정자와 혼합된 난자 수'] + data['확인되지 않은 혼합된 난자 수']) & (data['정자 출처'] == '배우자 제공') & ~(data['혼합된 난자 수'].isna()),\n",
    "        (data['혼합된 난자 수'] > data['파트너 정자와 혼합된 난자 수'] + data['기증자 정자와 혼합된 난자 수'] + data['확인되지 않은 혼합된 난자 수']) & (data['정자 출처'] == '기증 제공') & ~(data['혼합된 난자 수'].isna()),\n",
    "        (data['혼합된 난자 수'] > data['파트너 정자와 혼합된 난자 수'] + data['기증자 정자와 혼합된 난자 수'] + data['확인되지 않은 혼합된 난자 수']) & (data['정자 출처'] == '미할당') & ~(data['혼합된 난자 수'].isna()),\n",
    "    ]\n",
    "    con1 = [\n",
    "        data['파트너 정자와 혼합된 난자 수'],\n",
    "        data['혼합된 난자 수'],\n",
    "        0,\n",
    "        0\n",
    "    ]\n",
    "    con2 = [\n",
    "        data['기증자 정자와 혼합된 난자 수'],\n",
    "        0,\n",
    "        data['혼합된 난자 수'],\n",
    "        0\n",
    "    ]\n",
    "    con3 = [\n",
    "        0, 0, 0, data['혼합된 난자 수']\n",
    "    ]\n",
    "    data['파트너 정자와 혼합된 난자 수'] = np.select(cri, con1, default = data['파트너 정자와 혼합된 난자 수'])\n",
    "    data['기증자 정자와 혼합된 난자 수'] = np.select(cri, con2, default = data['기증자 정자와 혼합된 난자 수'])\n",
    "    data['확인되지 않은 혼합된 난자 수'] = np.select(cri, con3, default = data['확인되지 않은 혼합된 난자 수'])\n",
    "\n",
    "    return data"
   ]
  },
  {
   "cell_type": "code",
   "execution_count": 5,
   "metadata": {
    "execution": {
     "iopub.execute_input": "2025-02-27T03:52:32.704490Z",
     "iopub.status.busy": "2025-02-27T03:52:32.704048Z",
     "iopub.status.idle": "2025-02-27T03:52:32.722736Z",
     "shell.execute_reply": "2025-02-27T03:52:32.721533Z",
     "shell.execute_reply.started": "2025-02-27T03:52:32.704452Z"
    },
    "trusted": true
   },
   "outputs": [],
   "source": [
    "# 수집 + 해동 = 저장 + 혼합 맞추기\n",
    "# 수집 + 해동이 더 작은 경우 수집에 몰빵하기\n",
    "def collect_nanja(data):\n",
    "    cri = [\n",
    "        data['해동 난자 수'] + data['수집된 신선 난자 수'] < data['저장된 신선 난자 수'] + data['혼합된 난자 수']\n",
    "    ]\n",
    "    con = [\n",
    "        data['저장된 신선 난자 수'] + data['혼합된 난자 수']\n",
    "    ]\n",
    "    data['수집된 신선 난자 수'] = np.select(cri, con, default = data['수집된 신선 난자 수'])\n",
    "\n",
    "    return data"
   ]
  },
  {
   "cell_type": "code",
   "execution_count": 6,
   "metadata": {
    "execution": {
     "iopub.execute_input": "2025-02-27T03:52:32.724111Z",
     "iopub.status.busy": "2025-02-27T03:52:32.723730Z",
     "iopub.status.idle": "2025-02-27T03:52:32.746247Z",
     "shell.execute_reply": "2025-02-27T03:52:32.745162Z",
     "shell.execute_reply.started": "2025-02-27T03:52:32.724081Z"
    },
    "trusted": true
   },
   "outputs": [],
   "source": [
    "# 배아 수 고치기\n",
    "def egg_count_adj(data):\n",
    "\n",
    "    data['총 생성 배아 수'] = np.where(data['미세주입된 난자 수'] < data['미세주입에서 생성된 배아 수'], data['미세주입된 난자 수'], data['총 생성 배아 수'])\n",
    "    data['미세주입에서 생성된 배아 수'] = np.where(data['미세주입된 난자 수'] < data['미세주입에서 생성된 배아 수'], data['미세주입된 난자 수'], data['미세주입에서 생성된 배아 수'])\n",
    "\n",
    "    return data"
   ]
  },
  {
   "cell_type": "code",
   "execution_count": 7,
   "metadata": {
    "execution": {
     "iopub.execute_input": "2025-02-27T03:52:32.747932Z",
     "iopub.status.busy": "2025-02-27T03:52:32.747533Z",
     "iopub.status.idle": "2025-02-27T03:52:32.762629Z",
     "shell.execute_reply": "2025-02-27T03:52:32.761478Z",
     "shell.execute_reply.started": "2025-02-27T03:52:32.747893Z"
    },
    "trusted": true
   },
   "outputs": [],
   "source": [
    "# 생성 + 해동 = 저장 + 혼합 맞추기\n",
    "# 생성 + 해동이 더 작은 경우 수집에 몰빵하기\n",
    "def collect_baea(data):\n",
    "    cri = [\n",
    "        (data['총 생성 배아 수'] + data['해동된 배아 수'] < data['저장된 배아 수'] + data['이식된 배아 수'])\n",
    "    ]\n",
    "\n",
    "    con = [\n",
    "        data['저장된 배아 수'] + data['이식된 배아 수']\n",
    "    ]\n",
    "\n",
    "    data['총 생성 배아 수'] = np.select(cri, con, default = data['총 생성 배아 수'])\n",
    "\n",
    "    return data"
   ]
  },
  {
   "cell_type": "code",
   "execution_count": 8,
   "metadata": {
    "execution": {
     "iopub.execute_input": "2025-02-27T03:52:32.765746Z",
     "iopub.status.busy": "2025-02-27T03:52:32.765383Z",
     "iopub.status.idle": "2025-02-27T03:52:32.779524Z",
     "shell.execute_reply": "2025-02-27T03:52:32.778502Z",
     "shell.execute_reply.started": "2025-02-27T03:52:32.765708Z"
    },
    "trusted": true
   },
   "outputs": [],
   "source": [
    "# PGS 관련 변수 합쳐놓기\n",
    "def pgs_adj(data):\n",
    "\n",
    "    data['PGS 시술 여부'][data['PGS 시술 여부'].isna()] = 0\n",
    "    data['착상 전 유전 검사 사용 여부'][data['착상 전 유전 검사 사용 여부'].isna()] = 0\n",
    "\n",
    "    cri = [\n",
    "        (data['착상 전 유전 검사 사용 여부'] == 0) & (data['PGS 시술 여부'] == 0),\n",
    "        (data['착상 전 유전 검사 사용 여부'] == 1) & (data['PGS 시술 여부'] == 0),\n",
    "        (data['착상 전 유전 검사 사용 여부'] == 1) & (data['PGS 시술 여부'] == 1),\n",
    "    ]\n",
    "\n",
    "    con = [\n",
    "        0, -1, 1\n",
    "    ]\n",
    "    \n",
    "    data['PGS'] = np.select(cri, con, default = -999)\n",
    "\n",
    "    return data"
   ]
  },
  {
   "cell_type": "code",
   "execution_count": 9,
   "metadata": {
    "execution": {
     "iopub.execute_input": "2025-02-27T03:52:32.782000Z",
     "iopub.status.busy": "2025-02-27T03:52:32.781612Z",
     "iopub.status.idle": "2025-02-27T03:52:32.798988Z",
     "shell.execute_reply": "2025-02-27T03:52:32.797827Z",
     "shell.execute_reply.started": "2025-02-27T03:52:32.781943Z"
    },
    "trusted": true
   },
   "outputs": [],
   "source": [
    "# PGD 관련 변수 합쳐놓기\n",
    "def pgd_adj(data):\n",
    "\n",
    "    data['PGD 시술 여부'][data['PGD 시술 여부'].isna()] = 0\n",
    "    data['착상 전 유전 진단 사용 여부'][data['착상 전 유전 진단 사용 여부'].isna()] = 0\n",
    "\n",
    "    cri = [\n",
    "        (data['착상 전 유전 진단 사용 여부'] == 0) & (data['PGD 시술 여부'] == 0),\n",
    "        (data['착상 전 유전 진단 사용 여부'] == 1) & (data['PGD 시술 여부'] == 0),\n",
    "        (data['착상 전 유전 진단 사용 여부'] == 1) & (data['PGD 시술 여부'] == 1),\n",
    "    ]\n",
    "\n",
    "    con = [\n",
    "        0, -1, 1\n",
    "    ]\n",
    "    \n",
    "    data['PGD'] = np.select(cri, con, default = -999)\n",
    "\n",
    "    return data"
   ]
  },
  {
   "cell_type": "code",
   "execution_count": 10,
   "metadata": {
    "execution": {
     "iopub.execute_input": "2025-02-27T03:52:32.800319Z",
     "iopub.status.busy": "2025-02-27T03:52:32.799979Z",
     "iopub.status.idle": "2025-02-27T03:52:32.810105Z",
     "shell.execute_reply": "2025-02-27T03:52:32.809044Z",
     "shell.execute_reply.started": "2025-02-27T03:52:32.800288Z"
    },
    "trusted": true
   },
   "outputs": [],
   "source": [
    "# DI와 IVF\n",
    "def sisul_type_adj(data):\n",
    "\n",
    "    cri = [\n",
    "        (data['시술 유형'] == 'DI'),\n",
    "        (data['시술 유형'] == 'IVF') & (data['난자 출처'] == '기증 제공'),\n",
    "        (data['시술 유형'] == 'IVF') & (data['정자 출처'].isin(['기증 제공', '배우자 및 기증 제공'])),\n",
    "    ]\n",
    "\n",
    "    con = [\n",
    "        1, 1, 1\n",
    "    ]\n",
    "\n",
    "    data['DI시술방법'] = np.select(cri, con, default=0)\n",
    "    data['IVF시술방법'] = np.where(data['시술 유형'] == 'IVF', 1, 0)\n",
    "\n",
    "    return data"
   ]
  },
  {
   "cell_type": "code",
   "execution_count": 11,
   "metadata": {
    "execution": {
     "iopub.execute_input": "2025-02-27T03:52:32.811789Z",
     "iopub.status.busy": "2025-02-27T03:52:32.811200Z",
     "iopub.status.idle": "2025-02-27T03:52:32.827168Z",
     "shell.execute_reply": "2025-02-27T03:52:32.825948Z",
     "shell.execute_reply.started": "2025-02-27T03:52:32.811752Z"
    },
    "trusted": true
   },
   "outputs": [],
   "source": [
    "# 난자출처에 따른 해당 주기의 난자 주인 나이를 설명\n",
    "def nanja_own_age(data):\n",
    "    cri = [\n",
    "        data['난자 출처'] == '본인 제공',\n",
    "        data['난자 출처'] == '알 수 없음',\n",
    "        data['난자 출처'] == '기증 제공',\n",
    "    ]\n",
    "\n",
    "    con = [\n",
    "        data['시술 당시 나이'],\n",
    "        data['시술 당시 나이'],\n",
    "        data['난자 기증자 나이']\n",
    "    ]\n",
    "\n",
    "    data['해당 주기 난자 주인 나이'] = np.select(cri, con, default = np.nan)\n",
    "\n",
    "    return data"
   ]
  },
  {
   "cell_type": "code",
   "execution_count": 12,
   "metadata": {
    "execution": {
     "iopub.execute_input": "2025-02-27T03:52:32.828722Z",
     "iopub.status.busy": "2025-02-27T03:52:32.828441Z",
     "iopub.status.idle": "2025-02-27T03:52:32.845982Z",
     "shell.execute_reply": "2025-02-27T03:52:32.844732Z",
     "shell.execute_reply.started": "2025-02-27T03:52:32.828700Z"
    },
    "trusted": true
   },
   "outputs": [],
   "source": [
    "# 해당 주기 난자 주인 나이 매핑, 나이가 많을수록 낮은 값을 책정\n",
    "def nanja_level_mapping(data):\n",
    "    cri = [\n",
    "        data['해당 주기 난자 주인 나이'] == '만18-34세',\n",
    "        data['해당 주기 난자 주인 나이'] == '만45-50세',\n",
    "        data['해당 주기 난자 주인 나이'] == '만35-37세',\n",
    "        data['해당 주기 난자 주인 나이'] == '만38-39세',\n",
    "        data['해당 주기 난자 주인 나이'] == '만21-25세',\n",
    "        data['해당 주기 난자 주인 나이'] == '만40-42세',\n",
    "        data['해당 주기 난자 주인 나이'] == '만43-44세',\n",
    "        data['해당 주기 난자 주인 나이'] == '만31-35세',\n",
    "        data['해당 주기 난자 주인 나이'] == '만26-30세',\n",
    "        data['해당 주기 난자 주인 나이'] == '만20세 이하',\n",
    "        data['해당 주기 난자 주인 나이'] == '알 수 없음'\n",
    "    ]\n",
    "\n",
    "    con = [\n",
    "        6, 1, 5, 4, 6, 3, 2, 6, 6, 6, 0\n",
    "    ]\n",
    "    data['해당 주기 난자 주인 나이'] = np.select(cri, con, default = data['해당 주기 난자 주인 나이'])\n",
    "    return data"
   ]
  },
  {
   "cell_type": "markdown",
   "metadata": {},
   "source": [
    "### 3-2. 보정 함수 적용\n",
    "\n",
    "- 값이 자연스럽지 않은 구성에 대해 함수 보정을 적용하였습니다."
   ]
  },
  {
   "cell_type": "code",
   "execution_count": 13,
   "metadata": {
    "execution": {
     "iopub.execute_input": "2025-02-27T03:52:32.847553Z",
     "iopub.status.busy": "2025-02-27T03:52:32.847164Z",
     "iopub.status.idle": "2025-02-27T03:52:33.005511Z",
     "shell.execute_reply": "2025-02-27T03:52:33.004361Z",
     "shell.execute_reply.started": "2025-02-27T03:52:32.847525Z"
    },
    "trusted": true
   },
   "outputs": [
    {
     "name": "stderr",
     "output_type": "stream",
     "text": [
      "/usr/local/lib/python3.10/dist-packages/pandas/core/computation/expressions.py:73: RuntimeWarning: invalid value encountered in greater\n",
      "  return op(a, b)\n",
      "/usr/local/lib/python3.10/dist-packages/pandas/core/computation/expressions.py:73: RuntimeWarning: invalid value encountered in less\n",
      "  return op(a, b)\n"
     ]
    }
   ],
   "source": [
    "# 혼합된 난자 불일치 변경\n",
    "train = nanja_count_settings(train)\n",
    "test = nanja_count_settings(test)\n",
    "\n",
    "# 해동, 수집, 저장, 혼합에 관해 수식에 맞는 값으로 적용\n",
    "train = collect_nanja(train)\n",
    "test = collect_nanja(test)\n",
    "\n",
    "# 총 배아수를 넘는 숫자 보정\n",
    "train = egg_count_adj(train)\n",
    "test = egg_count_adj(test)\n",
    "\n",
    "# 생성, 해동, 이식, 저장 배아수 조정\n",
    "train = collect_baea(train)\n",
    "test = collect_baea(test)"
   ]
  },
  {
   "cell_type": "code",
   "execution_count": 14,
   "metadata": {
    "execution": {
     "iopub.execute_input": "2025-02-27T03:52:33.006677Z",
     "iopub.status.busy": "2025-02-27T03:52:33.006369Z",
     "iopub.status.idle": "2025-02-27T03:52:33.020613Z",
     "shell.execute_reply": "2025-02-27T03:52:33.019431Z",
     "shell.execute_reply.started": "2025-02-27T03:52:33.006653Z"
    },
    "trusted": true
   },
   "outputs": [],
   "source": [
    "# 정자의 출처가 둘다 혼합하는 경우에는 배우자 및 기증 제공으로 이동\n",
    "train['정자 출처'] = np.where((train['파트너 정자와 혼합된 난자 수'] > 0) & (train['기증자 정자와 혼합된 난자 수'] > 0), '배우자 및 기증 제공', train['정자 출처'])\n",
    "test['정자 출처'] = np.where((test['파트너 정자와 혼합된 난자 수'] > 0) & (test['기증자 정자와 혼합된 난자 수'] > 0), '배우자 및 기증 제공', test['정자 출처'])"
   ]
  },
  {
   "cell_type": "markdown",
   "metadata": {},
   "source": [
    "### 3-3. 추가 파생변수"
   ]
  },
  {
   "cell_type": "code",
   "execution_count": 15,
   "metadata": {
    "execution": {
     "iopub.execute_input": "2025-02-27T03:52:33.022015Z",
     "iopub.status.busy": "2025-02-27T03:52:33.021714Z",
     "iopub.status.idle": "2025-02-27T03:52:33.061013Z",
     "shell.execute_reply": "2025-02-27T03:52:33.059925Z",
     "shell.execute_reply.started": "2025-02-27T03:52:33.021991Z"
    },
    "trusted": true
   },
   "outputs": [],
   "source": [
    "# ICSI를 적용하지 않은 배아에 대한 파생 변수\n",
    "train['IVF에서 생성된 배아 수'] = train['총 생성 배아 수'] - train['미세주입에서 생성된 배아 수']\n",
    "test['IVF에서 생성된 배아 수'] = test['총 생성 배아 수'] - test['미세주입에서 생성된 배아 수']\n",
    "\n",
    "train['IVF 배아 이식 수'] = train['이식된 배아 수'] - train['미세주입 배아 이식 수']\n",
    "test['IVF 배아 이식 수'] = test['이식된 배아 수'] - test['미세주입 배아 이식 수']\n",
    "\n",
    "train['IVF 후 저장된 배아 수'] = train['저장된 배아 수'] - train['미세주입 후 저장된 배아 수']\n",
    "test['IVF 후 저장된 배아 수'] = test['저장된 배아 수'] - test['미세주입 후 저장된 배아 수']\n",
    "\n",
    "# 폐기된 배아 수\n",
    "train['폐기된 배아 수'] = train['총 생성 배아 수'] + train['해동된 배아 수'] - (train['저장된 배아 수'] + train['이식된 배아 수'])\n",
    "test['폐기된 배아 수'] = test['총 생성 배아 수'] + test['해동된 배아 수'] - (test['저장된 배아 수'] + test['이식된 배아 수'])\n",
    "\n",
    "# 배아 생성 실패 난자 수\n",
    "train['미세주입 배아 실패 수'] = train['미세주입된 난자 수'] - train['미세주입에서 생성된 배아 수']\n",
    "test['미세주입 배아 실패 수'] = test['미세주입된 난자 수'] - test['미세주입에서 생성된 배아 수']\n",
    "\n",
    "train['IVF 배아 실패 수'] = train['혼합된 난자 수'] - train['미세주입된 난자 수'] - train['IVF에서 생성된 배아 수']\n",
    "test['IVF 배아 실패 수'] = test['혼합된 난자 수'] - test['미세주입된 난자 수'] - test['IVF에서 생성된 배아 수']"
   ]
  },
  {
   "cell_type": "code",
   "execution_count": 16,
   "metadata": {
    "execution": {
     "iopub.execute_input": "2025-02-27T03:52:33.062340Z",
     "iopub.status.busy": "2025-02-27T03:52:33.062068Z",
     "iopub.status.idle": "2025-02-27T03:52:36.454005Z",
     "shell.execute_reply": "2025-02-27T03:52:36.453112Z",
     "shell.execute_reply.started": "2025-02-27T03:52:33.062318Z"
    },
    "trusted": true
   },
   "outputs": [
    {
     "name": "stderr",
     "output_type": "stream",
     "text": [
      "<ipython-input-8-7c69353544e7>:4: FutureWarning: ChainedAssignmentError: behaviour will change in pandas 3.0!\n",
      "You are setting values through chained assignment. Currently this works in certain cases, but when using Copy-on-Write (which will become the default behaviour in pandas 3.0) this will never work to update the original DataFrame or Series, because the intermediate object on which we are setting values will behave as a copy.\n",
      "A typical example is when you are setting values in a column of a DataFrame, like:\n",
      "\n",
      "df[\"col\"][row_indexer] = value\n",
      "\n",
      "Use `df.loc[row_indexer, \"col\"] = values` instead, to perform the assignment in a single step and ensure this keeps updating the original `df`.\n",
      "\n",
      "See the caveats in the documentation: https://pandas.pydata.org/pandas-docs/stable/user_guide/indexing.html#returning-a-view-versus-a-copy\n",
      "\n",
      "  data['PGS 시술 여부'][data['PGS 시술 여부'].isna()] = 0\n",
      "<ipython-input-8-7c69353544e7>:4: SettingWithCopyWarning: \n",
      "A value is trying to be set on a copy of a slice from a DataFrame\n",
      "\n",
      "See the caveats in the documentation: https://pandas.pydata.org/pandas-docs/stable/user_guide/indexing.html#returning-a-view-versus-a-copy\n",
      "  data['PGS 시술 여부'][data['PGS 시술 여부'].isna()] = 0\n",
      "<ipython-input-8-7c69353544e7>:5: FutureWarning: ChainedAssignmentError: behaviour will change in pandas 3.0!\n",
      "You are setting values through chained assignment. Currently this works in certain cases, but when using Copy-on-Write (which will become the default behaviour in pandas 3.0) this will never work to update the original DataFrame or Series, because the intermediate object on which we are setting values will behave as a copy.\n",
      "A typical example is when you are setting values in a column of a DataFrame, like:\n",
      "\n",
      "df[\"col\"][row_indexer] = value\n",
      "\n",
      "Use `df.loc[row_indexer, \"col\"] = values` instead, to perform the assignment in a single step and ensure this keeps updating the original `df`.\n",
      "\n",
      "See the caveats in the documentation: https://pandas.pydata.org/pandas-docs/stable/user_guide/indexing.html#returning-a-view-versus-a-copy\n",
      "\n",
      "  data['착상 전 유전 검사 사용 여부'][data['착상 전 유전 검사 사용 여부'].isna()] = 0\n",
      "<ipython-input-8-7c69353544e7>:5: SettingWithCopyWarning: \n",
      "A value is trying to be set on a copy of a slice from a DataFrame\n",
      "\n",
      "See the caveats in the documentation: https://pandas.pydata.org/pandas-docs/stable/user_guide/indexing.html#returning-a-view-versus-a-copy\n",
      "  data['착상 전 유전 검사 사용 여부'][data['착상 전 유전 검사 사용 여부'].isna()] = 0\n",
      "<ipython-input-8-7c69353544e7>:4: FutureWarning: ChainedAssignmentError: behaviour will change in pandas 3.0!\n",
      "You are setting values through chained assignment. Currently this works in certain cases, but when using Copy-on-Write (which will become the default behaviour in pandas 3.0) this will never work to update the original DataFrame or Series, because the intermediate object on which we are setting values will behave as a copy.\n",
      "A typical example is when you are setting values in a column of a DataFrame, like:\n",
      "\n",
      "df[\"col\"][row_indexer] = value\n",
      "\n",
      "Use `df.loc[row_indexer, \"col\"] = values` instead, to perform the assignment in a single step and ensure this keeps updating the original `df`.\n",
      "\n",
      "See the caveats in the documentation: https://pandas.pydata.org/pandas-docs/stable/user_guide/indexing.html#returning-a-view-versus-a-copy\n",
      "\n",
      "  data['PGS 시술 여부'][data['PGS 시술 여부'].isna()] = 0\n",
      "<ipython-input-8-7c69353544e7>:4: SettingWithCopyWarning: \n",
      "A value is trying to be set on a copy of a slice from a DataFrame\n",
      "\n",
      "See the caveats in the documentation: https://pandas.pydata.org/pandas-docs/stable/user_guide/indexing.html#returning-a-view-versus-a-copy\n",
      "  data['PGS 시술 여부'][data['PGS 시술 여부'].isna()] = 0\n",
      "<ipython-input-8-7c69353544e7>:5: FutureWarning: ChainedAssignmentError: behaviour will change in pandas 3.0!\n",
      "You are setting values through chained assignment. Currently this works in certain cases, but when using Copy-on-Write (which will become the default behaviour in pandas 3.0) this will never work to update the original DataFrame or Series, because the intermediate object on which we are setting values will behave as a copy.\n",
      "A typical example is when you are setting values in a column of a DataFrame, like:\n",
      "\n",
      "df[\"col\"][row_indexer] = value\n",
      "\n",
      "Use `df.loc[row_indexer, \"col\"] = values` instead, to perform the assignment in a single step and ensure this keeps updating the original `df`.\n",
      "\n",
      "See the caveats in the documentation: https://pandas.pydata.org/pandas-docs/stable/user_guide/indexing.html#returning-a-view-versus-a-copy\n",
      "\n",
      "  data['착상 전 유전 검사 사용 여부'][data['착상 전 유전 검사 사용 여부'].isna()] = 0\n",
      "<ipython-input-8-7c69353544e7>:5: SettingWithCopyWarning: \n",
      "A value is trying to be set on a copy of a slice from a DataFrame\n",
      "\n",
      "See the caveats in the documentation: https://pandas.pydata.org/pandas-docs/stable/user_guide/indexing.html#returning-a-view-versus-a-copy\n",
      "  data['착상 전 유전 검사 사용 여부'][data['착상 전 유전 검사 사용 여부'].isna()] = 0\n",
      "<ipython-input-9-b2810f9fbe5f>:4: FutureWarning: ChainedAssignmentError: behaviour will change in pandas 3.0!\n",
      "You are setting values through chained assignment. Currently this works in certain cases, but when using Copy-on-Write (which will become the default behaviour in pandas 3.0) this will never work to update the original DataFrame or Series, because the intermediate object on which we are setting values will behave as a copy.\n",
      "A typical example is when you are setting values in a column of a DataFrame, like:\n",
      "\n",
      "df[\"col\"][row_indexer] = value\n",
      "\n",
      "Use `df.loc[row_indexer, \"col\"] = values` instead, to perform the assignment in a single step and ensure this keeps updating the original `df`.\n",
      "\n",
      "See the caveats in the documentation: https://pandas.pydata.org/pandas-docs/stable/user_guide/indexing.html#returning-a-view-versus-a-copy\n",
      "\n",
      "  data['PGD 시술 여부'][data['PGD 시술 여부'].isna()] = 0\n",
      "<ipython-input-9-b2810f9fbe5f>:4: SettingWithCopyWarning: \n",
      "A value is trying to be set on a copy of a slice from a DataFrame\n",
      "\n",
      "See the caveats in the documentation: https://pandas.pydata.org/pandas-docs/stable/user_guide/indexing.html#returning-a-view-versus-a-copy\n",
      "  data['PGD 시술 여부'][data['PGD 시술 여부'].isna()] = 0\n",
      "<ipython-input-9-b2810f9fbe5f>:5: FutureWarning: ChainedAssignmentError: behaviour will change in pandas 3.0!\n",
      "You are setting values through chained assignment. Currently this works in certain cases, but when using Copy-on-Write (which will become the default behaviour in pandas 3.0) this will never work to update the original DataFrame or Series, because the intermediate object on which we are setting values will behave as a copy.\n",
      "A typical example is when you are setting values in a column of a DataFrame, like:\n",
      "\n",
      "df[\"col\"][row_indexer] = value\n",
      "\n",
      "Use `df.loc[row_indexer, \"col\"] = values` instead, to perform the assignment in a single step and ensure this keeps updating the original `df`.\n",
      "\n",
      "See the caveats in the documentation: https://pandas.pydata.org/pandas-docs/stable/user_guide/indexing.html#returning-a-view-versus-a-copy\n",
      "\n",
      "  data['착상 전 유전 진단 사용 여부'][data['착상 전 유전 진단 사용 여부'].isna()] = 0\n",
      "<ipython-input-9-b2810f9fbe5f>:5: SettingWithCopyWarning: \n",
      "A value is trying to be set on a copy of a slice from a DataFrame\n",
      "\n",
      "See the caveats in the documentation: https://pandas.pydata.org/pandas-docs/stable/user_guide/indexing.html#returning-a-view-versus-a-copy\n",
      "  data['착상 전 유전 진단 사용 여부'][data['착상 전 유전 진단 사용 여부'].isna()] = 0\n",
      "<ipython-input-9-b2810f9fbe5f>:4: FutureWarning: ChainedAssignmentError: behaviour will change in pandas 3.0!\n",
      "You are setting values through chained assignment. Currently this works in certain cases, but when using Copy-on-Write (which will become the default behaviour in pandas 3.0) this will never work to update the original DataFrame or Series, because the intermediate object on which we are setting values will behave as a copy.\n",
      "A typical example is when you are setting values in a column of a DataFrame, like:\n",
      "\n",
      "df[\"col\"][row_indexer] = value\n",
      "\n",
      "Use `df.loc[row_indexer, \"col\"] = values` instead, to perform the assignment in a single step and ensure this keeps updating the original `df`.\n",
      "\n",
      "See the caveats in the documentation: https://pandas.pydata.org/pandas-docs/stable/user_guide/indexing.html#returning-a-view-versus-a-copy\n",
      "\n",
      "  data['PGD 시술 여부'][data['PGD 시술 여부'].isna()] = 0\n",
      "<ipython-input-9-b2810f9fbe5f>:4: SettingWithCopyWarning: \n",
      "A value is trying to be set on a copy of a slice from a DataFrame\n",
      "\n",
      "See the caveats in the documentation: https://pandas.pydata.org/pandas-docs/stable/user_guide/indexing.html#returning-a-view-versus-a-copy\n",
      "  data['PGD 시술 여부'][data['PGD 시술 여부'].isna()] = 0\n",
      "<ipython-input-9-b2810f9fbe5f>:5: FutureWarning: ChainedAssignmentError: behaviour will change in pandas 3.0!\n",
      "You are setting values through chained assignment. Currently this works in certain cases, but when using Copy-on-Write (which will become the default behaviour in pandas 3.0) this will never work to update the original DataFrame or Series, because the intermediate object on which we are setting values will behave as a copy.\n",
      "A typical example is when you are setting values in a column of a DataFrame, like:\n",
      "\n",
      "df[\"col\"][row_indexer] = value\n",
      "\n",
      "Use `df.loc[row_indexer, \"col\"] = values` instead, to perform the assignment in a single step and ensure this keeps updating the original `df`.\n",
      "\n",
      "See the caveats in the documentation: https://pandas.pydata.org/pandas-docs/stable/user_guide/indexing.html#returning-a-view-versus-a-copy\n",
      "\n",
      "  data['착상 전 유전 진단 사용 여부'][data['착상 전 유전 진단 사용 여부'].isna()] = 0\n",
      "<ipython-input-9-b2810f9fbe5f>:5: SettingWithCopyWarning: \n",
      "A value is trying to be set on a copy of a slice from a DataFrame\n",
      "\n",
      "See the caveats in the documentation: https://pandas.pydata.org/pandas-docs/stable/user_guide/indexing.html#returning-a-view-versus-a-copy\n",
      "  data['착상 전 유전 진단 사용 여부'][data['착상 전 유전 진단 사용 여부'].isna()] = 0\n",
      "<ipython-input-16-7312a335ff96>:22: FutureWarning: Downcasting object dtype arrays on .fillna, .ffill, .bfill is deprecated and will change in a future version. Call result.infer_objects(copy=False) instead. To opt-in to the future behavior, set `pd.set_option('future.no_silent_downcasting', True)`\n",
      "  train = train.fillna('-999')\n",
      "<ipython-input-16-7312a335ff96>:23: FutureWarning: Downcasting object dtype arrays on .fillna, .ffill, .bfill is deprecated and will change in a future version. Call result.infer_objects(copy=False) instead. To opt-in to the future behavior, set `pd.set_option('future.no_silent_downcasting', True)`\n",
      "  test = test.fillna('-999')\n"
     ]
    }
   ],
   "source": [
    "# PGS 변수 합치기\n",
    "train = pgs_adj(train)\n",
    "test = pgs_adj(test)\n",
    "\n",
    "# PGD 변수 합치기\n",
    "train = pgd_adj(train)\n",
    "test = pgd_adj(test)\n",
    "\n",
    "# 시술 타입 대분류 공통적인 특징 보정\n",
    "train = sisul_type_adj(train)\n",
    "test = sisul_type_adj(test)\n",
    "\n",
    "# 난자의 주인에 대한 나이 생성 (본인난자 사용하면 본인, 기증자 난자 사용하면 기증자 나이)\n",
    "train = nanja_own_age(train)\n",
    "test = nanja_own_age(test)\n",
    "\n",
    "# 해당 주기의 난자 주인 나이를 일치하기 위한 매핑 방법\n",
    "train = nanja_level_mapping(train)\n",
    "test = nanja_level_mapping(test)\n",
    "\n",
    "# 싹다 -999로 채워 EDA 하는 경우에 -999를 보면 Missing임을 알수있도록\n",
    "train = train.fillna('-999')\n",
    "test = test.fillna('-999')\n",
    "\n",
    "# 겹치는 Column과 상수 Column 제거\n",
    "constant_columns = train.nunique() == 1\n",
    "columns_to_drop = train.columns[constant_columns]\n",
    "\n",
    "train = train.drop(columns=columns_to_drop)\n",
    "test = test.drop(columns=columns_to_drop)\n",
    "\n",
    "# 배란 유도 유형의 종류가 단 1건씩 두 종류만 존재해 배제 결정\n",
    "train = train.drop(columns='배란 유도 유형')\n",
    "test = test.drop(columns='배란 유도 유형')"
   ]
  },
  {
   "cell_type": "markdown",
   "metadata": {},
   "source": [
    "## 4. 데이터 Mapping\n",
    "\n",
    "- 나이, 출산횟수와 같은 변수의 경우 범주형 데이터로 기록됨  \n",
    "- 임의로 아무 숫자나 반영하지 않게 적용하기 위해 각 데이터별로 매핑 결정"
   ]
  },
  {
   "cell_type": "markdown",
   "metadata": {},
   "source": [
    "### 4-1. Mapping"
   ]
  },
  {
   "cell_type": "code",
   "execution_count": null,
   "metadata": {
    "execution": {
     "iopub.execute_input": "2025-02-27T03:52:36.455272Z",
     "iopub.status.busy": "2025-02-27T03:52:36.454984Z",
     "iopub.status.idle": "2025-02-27T03:52:36.923593Z",
     "shell.execute_reply": "2025-02-27T03:52:36.922224Z",
     "shell.execute_reply.started": "2025-02-27T03:52:36.455241Z"
    },
    "trusted": true
   },
   "outputs": [],
   "source": [
    "# 나이 컬럼 처리\n",
    "train['정자 기증자 나이'] = train['정자 기증자 나이'].replace(\"-999\", \"알 수 없음\")\n",
    "test['정자 기증자 나이'] = test['정자 기증자 나이'].replace(\"-999\", \"알 수 없음\")\n",
    "train['난자 기증자 나이'] = train['난자 기증자 나이'].replace(\"-999\", \"알 수 없음\")\n",
    "test['난자 기증자 나이'] = test['난자 기증자 나이'].replace(\"-999\", \"알 수 없음\")\n",
    "\n",
    "# 나이가 높을수록 낮은 값을 책정\n",
    "age_mapping = {\n",
    "     \"만18-34세\" : 1024,\n",
    "     \"만35-37세\" : 512,\n",
    "     \"만38-39세\" : 256,\n",
    "     \"만40-42세\" : 128,\n",
    "     \"만43-44세\" : 32,\n",
    "     \"만45-50세\" : 4,\n",
    "     \"알 수 없음\" : -999,\n",
    "}\n",
    "train[\"시술 당시 나이\"] = train[\"시술 당시 나이\"].map(age_mapping)\n",
    "test[\"시술 당시 나이\"] = test[\"시술 당시 나이\"].map(age_mapping)\n",
    "\n",
    "age_mapping = {\n",
    "     \"만20세 이하\" : 1024,\n",
    "     \"만21-25세\" : 512,\n",
    "     \"만26-30세\" : 128,\n",
    "     \"만31-35세\" : 16,\n",
    "     \"알 수 없음\" : -999,\n",
    "}\n",
    "\n",
    "train[\"난자 기증자 나이\"] = train[\"난자 기증자 나이\"].map(age_mapping)\n",
    "test[\"난자 기증자 나이\"] = test[\"난자 기증자 나이\"].map(age_mapping)\n",
    "\n",
    "age_mapping = {\n",
    "     \"만20세 이하\" : 1024,\n",
    "     \"만21-25세\" : 512,\n",
    "     \"만26-30세\" : 256,\n",
    "     \"만31-35세\" : 128,\n",
    "     \"만36-40세\" : 16,\n",
    "     \"만41-45세\" : 4,\n",
    "     \"알 수 없음\" : -999,\n",
    "}\n",
    "\n",
    "train[\"정자 기증자 나이\"] = train[\"정자 기증자 나이\"].map(age_mapping)\n",
    "test[\"정자 기증자 나이\"] = test[\"정자 기증자 나이\"].map(age_mapping)\n",
    "\n",
    "# 시술 유형 처리\n",
    "mapping = {\n",
    "     \"DI\" : -100,\n",
    "     \"IVF\" : 100\n",
    "}\n",
    "train[\"시술 유형\"] = train[\"시술 유형\"].map(mapping)\n",
    "test[\"시술 유형\"] = test[\"시술 유형\"].map(mapping)\n",
    "\n",
    "\n",
    "# 횟수 처리\n",
    "mapping = {\n",
    "    \"0회\": 0, \"1회\": 1, \"2회\": 2, \"3회\": 3, \"4회\": 4, \"5회\": 5,\n",
    "    \"6회 이상\": 20, '-999' : -999\n",
    "}\n",
    "# 6회 이상이라는 말에 의미를 담기 위해서 20로 매핑함.\n",
    "\n",
    "# 클리닉 횟수 관련\n",
    "train[\"총 시술 횟수\"] = train[\"총 시술 횟수\"].map(mapping)\n",
    "test[\"총 시술 횟수\"] = test[\"총 시술 횟수\"].map(mapping)\n",
    "\n",
    "train[\"DI 시술 횟수\"] = train[\"DI 시술 횟수\"].map(mapping)\n",
    "test[\"DI 시술 횟수\"] = test[\"DI 시술 횟수\"].map(mapping)\n",
    "\n",
    "train[\"IVF 시술 횟수\"] = train[\"IVF 시술 횟수\"].map(mapping)\n",
    "test[\"IVF 시술 횟수\"] = test[\"IVF 시술 횟수\"].map(mapping)\n",
    "\n",
    "train[\"클리닉 내 총 시술 횟수\"] = train[\"클리닉 내 총 시술 횟수\"].map(mapping)\n",
    "test[\"클리닉 내 총 시술 횟수\"] = test[\"클리닉 내 총 시술 횟수\"].map(mapping)\n",
    "\n",
    "# 임신 횟수 관련 \n",
    "train[\"총 임신 횟수\"] = train[\"총 임신 횟수\"].map(mapping)\n",
    "test[\"총 임신 횟수\"] = test[\"총 임신 횟수\"].map(mapping)\n",
    "\n",
    "train[\"IVF 임신 횟수\"] = train[\"IVF 임신 횟수\"].map(mapping)\n",
    "test[\"IVF 임신 횟수\"] = test[\"IVF 임신 횟수\"].map(mapping)\n",
    "\n",
    "train[\"DI 임신 횟수\"] = train[\"DI 임신 횟수\"].map(mapping)\n",
    "test[\"DI 임신 횟수\"] = test[\"DI 임신 횟수\"].map(mapping)\n",
    "\n",
    "# 출산 횟수 관련 \n",
    "train[\"총 출산 횟수\"] = train[\"총 출산 횟수\"].map(mapping)\n",
    "test[\"총 출산 횟수\"] = test[\"총 출산 횟수\"].map(mapping)\n",
    "\n",
    "train[\"IVF 출산 횟수\"] = train[\"IVF 출산 횟수\"].map(mapping)\n",
    "test[\"IVF 출산 횟수\"] = test[\"IVF 출산 횟수\"].map(mapping)\n",
    "\n",
    "train[\"DI 출산 횟수\"] = train[\"DI 출산 횟수\"].map(mapping)\n",
    "test[\"DI 출산 횟수\"] = test[\"DI 출산 횟수\"].map(mapping)\n",
    "\n",
    "# 코드가 뒤로 갈수록 나이가 많은 분들이 시술을 받는 경향을 받아, 선형적으로 구성, 코드가 매핑상 뒤로갈수록 나이가 많은 사람이 임신을 하는 경우가 많은 쪽으로 배치\n",
    "# EDA상 코드 시기상으로도 이게 맞다는 사실을 알게 됨.\n",
    "code_to_year = {\n",
    "    'TRXQMD' : 1,\n",
    "    'TRZKPL' : 2,\n",
    "    'TRVNRY' : 3,\n",
    "    'TRJXFG' : 4,\n",
    "    'TRYBLT' : 5,\n",
    "    'TRCMWS' : 6,\n",
    "    'TRDQAZ' : 7,\n",
    "}\n",
    "\n",
    "train['시술 시기 코드'] = train['시술 시기 코드'].map(code_to_year)\n",
    "test['시술 시기 코드'] = test['시술 시기 코드'].map(code_to_year)\n",
    "\n",
    "# 난자 출처 매핑\n",
    "mapping = {\n",
    "     \"본인 제공\" : 1,\n",
    "     \"기증 제공\" : -1,\n",
    "     \"알 수 없음\" : 1, # DI의 경우 99프로 이상이 본인의 난자와 수정하는 과정임.\n",
    "}\n",
    "train['난자 출처'] = train['난자 출처'].map(mapping)\n",
    "test['난자 출처'] = test['난자 출처'].map(mapping)\n",
    "\n",
    "# 정자 출처 매핑\n",
    "mapping = {\n",
    "     \"배우자 제공\" : 1,\n",
    "     \"기증 제공\" : -1,\n",
    "     \"배우자 및 기증 제공\" : 0,\n",
    "     \"미할당\" : -999,\n",
    "}\n",
    "\n",
    "train['정자 출처'] = train['정자 출처'].map(mapping)\n",
    "test['정자 출처'] = test['정자 출처'].map(mapping)"
   ]
  },
  {
   "cell_type": "markdown",
   "metadata": {},
   "source": [
    "### 4-2. Encoding 및 데이터 형식 변경"
   ]
  },
  {
   "cell_type": "code",
   "execution_count": null,
   "metadata": {
    "execution": {
     "iopub.execute_input": "2025-02-27T03:52:36.925392Z",
     "iopub.status.busy": "2025-02-27T03:52:36.924978Z",
     "iopub.status.idle": "2025-02-27T03:52:40.679954Z",
     "shell.execute_reply": "2025-02-27T03:52:40.678924Z",
     "shell.execute_reply.started": "2025-02-27T03:52:36.925336Z"
    },
    "trusted": true
   },
   "outputs": [],
   "source": [
    "# 특정 시술 유형의 :를 _로 바꿔서, 오류를 없앰.\n",
    "train['특정 시술 유형'] =train['특정 시술 유형'].str.replace(r'\\s+', '', regex=True).str.replace(\":\", \"_\")\n",
    "test['특정 시술 유형'] =test['특정 시술 유형'].str.replace(r'\\s+', '', regex=True).str.replace(\":\", \"_\")\n",
    "\n",
    "# 특정 시술 유형 onehot\n",
    "for i in ['ICSI', 'IUI', 'ICI', 'GIFT', 'FER', 'GenericDI', 'IVI', 'BLASTOCYST', 'AH', 'Unknown', 'IVF', '-999', 'ICSI_ICSI', 'IVF_IVF', 'ICSI_Unknown', 'BLASTOCYST_IVF', 'IVF_Unknown', 'ICSI/BLASTOCYST', 'IVF/BLASTOCYST', 'ICSI/AH', 'IVF/AH', 'ICSI/BLASTOCYST_IVF/BLASTOCYST']:\n",
    "    train['특시유_' + i] = np.where(train['특정 시술 유형'].str.contains(i, regex=False), 1, 0)\n",
    "    test['특시유_' + i] = np.where(test['특정 시술 유형'].str.contains(i, regex=False), 1, 0)\n",
    "\n",
    "# 배아 생성 주요 이유 onehot\n",
    "for i in ['-999', '기증용', '난자 저장용', '배아 저장용', '연구용', '현재 시술용']:\n",
    "    train['배생이_' + i] = np.where(train['배아 생성 주요 이유'].str.contains(i), 1, 0)\n",
    "    test['배생이_' + i] = np.where(test['배아 생성 주요 이유'].str.contains(i), 1, 0)\n",
    "\n",
    "train = train.drop(columns = ['배아 생성 주요 이유'])\n",
    "test = test.drop(columns = ['배아 생성 주요 이유'])\n",
    "\n",
    "# Int화\n",
    "train['착상 전 유전 진단 사용 여부'] = train['착상 전 유전 진단 사용 여부'].astype(int)\n",
    "test['착상 전 유전 진단 사용 여부'] = test['착상 전 유전 진단 사용 여부'].astype(int)\n",
    "train['착상 전 유전 검사 사용 여부'] = train['착상 전 유전 검사 사용 여부'].astype(int)\n",
    "test['착상 전 유전 검사 사용 여부'] = test['착상 전 유전 검사 사용 여부'].astype(int)\n",
    "train['임신 시도 또는 마지막 임신 경과 연수'] = train['임신 시도 또는 마지막 임신 경과 연수'].astype(int)\n",
    "test['임신 시도 또는 마지막 임신 경과 연수'] = test['임신 시도 또는 마지막 임신 경과 연수'].astype(int)\n",
    "train['단일 배아 이식 여부'] = train['단일 배아 이식 여부'].astype(int)\n",
    "test['단일 배아 이식 여부'] = test['단일 배아 이식 여부'].astype(int)\n",
    "\n",
    "# 시술유형에 따른 결측치 대체매핑 -> DI인 경우와 IVF인 경우에 의미가 다름. 그거에 맞게 결측에 대한 값을 재매핑\n",
    "train.loc[(train['시술 유형'] == 100) & (train['착상 전 유전 검사 사용 여부'] == '-999'), '착상 전 유전 검사 사용 여부'] = 0\n",
    "test.loc[(test['시술 유형'] == 100) & (test['착상 전 유전 검사 사용 여부'] == '-999'), '착상 전 유전 검사 사용 여부'] = 0\n",
    "\n",
    "train.loc[(train['시술 유형'] == 100) & (train['PGD 시술 여부'] == '-999'), 'PGD 시술 여부'] = 0\n",
    "train.loc[(train['시술 유형'] == 100) & (train['PGS 시술 여부'] == '-999'), 'PGS 시술 여부'] = 0\n",
    "test.loc[(test['시술 유형'] == 100) & (test['PGD 시술 여부'] == '-999'), 'PGD 시술 여부'] = 0\n",
    "test.loc[(test['시술 유형'] == 100) & (test['PGS 시술 여부'] == '-999'), 'PGS 시술 여부'] = 0\n",
    "\n",
    "test.loc[(test['시술 유형'] == 100) & (test['난자 채취 경과일'] == '-999'), '난자 채취 경과일'] = 0\n",
    "test.loc[(test['시술 유형'] == 100) & (test['난자 해동 경과일'] == '-999'), '난자 해동 경과일'] = 0\n",
    "test.loc[(test['시술 유형'] == 100) & (test['난자 혼합 경과일'] == '-999'), '난자 혼합 경과일'] = 0\n",
    "test.loc[(test['시술 유형'] == 100) & (test['배아 이식 경과일'] == '-999'), '배아 이식 경과일'] = 0\n",
    "test.loc[(test['시술 유형'] == 100) & (test['배아 해동 경과일'] == '-999'), '배아 해동 경과일'] = 0\n",
    "\n",
    "train.loc[(train['시술 유형'] == 100) & (train['난자 채취 경과일'] == '-999'), '난자 채취 경과일'] = 0\n",
    "train.loc[(train['시술 유형'] == 100) & (train['난자 해동 경과일'] == '-999'), '난자 해동 경과일'] = 0\n",
    "train.loc[(train['시술 유형'] == 100) & (train['난자 혼합 경과일'] == '-999'), '난자 혼합 경과일'] = 0\n",
    "train.loc[(train['시술 유형'] == 100) & (train['배아 이식 경과일'] == '-999'), '배아 이식 경과일'] = 0\n",
    "train.loc[(train['시술 유형'] == 100) & (train['배아 해동 경과일'] == '-999'), '배아 해동 경과일'] = 0\n",
    "\n",
    "# str인 것들을 다 int화\n",
    "col = [\n",
    "    \"총 생성 배아 수\", \"미세주입된 난자 수\", \"미세주입에서 생성된 배아 수\", \"이식된 배아 수\",\n",
    "    \"미세주입 배아 이식 수\", \"저장된 배아 수\", \"미세주입 후 저장된 배아 수\", \"해동된 배아 수\",\n",
    "    \"해동 난자 수\", \"수집된 신선 난자 수\", \"저장된 신선 난자 수\", \"혼합된 난자 수\",\n",
    "    \"파트너 정자와 혼합된 난자 수\", \"기증자 정자와 혼합된 난자 수\", \"동결 배아 사용 여부\",\n",
    "    \"신선 배아 사용 여부\", \"기증 배아 사용 여부\", \"대리모 여부\", \"PGD 시술 여부\",\n",
    "    \"PGS 시술 여부\", \"난자 채취 경과일\", \"난자 해동 경과일\", \"난자 혼합 경과일\",\n",
    "    \"배아 이식 경과일\", \"배아 해동 경과일\",  'IVF에서 생성된 배아 수', 'IVF 배아 이식 수',\n",
    "    'IVF 후 저장된 배아 수', '폐기된 배아 수', '미세주입 배아 실패 수', 'IVF 배아 실패 수']\n",
    "train[col] = train[col].astype(int)\n",
    "test[col] = test[col].astype(int)"
   ]
  },
  {
   "cell_type": "markdown",
   "metadata": {},
   "source": [
    "### 4-3. 생성 컬럼"
   ]
  },
  {
   "cell_type": "code",
   "execution_count": null,
   "metadata": {
    "execution": {
     "iopub.execute_input": "2025-02-27T03:52:40.682388Z",
     "iopub.status.busy": "2025-02-27T03:52:40.682084Z",
     "iopub.status.idle": "2025-02-27T03:52:41.887338Z",
     "shell.execute_reply": "2025-02-27T03:52:41.886227Z",
     "shell.execute_reply.started": "2025-02-27T03:52:40.682363Z"
    },
    "trusted": true
   },
   "outputs": [
    {
     "name": "stderr",
     "output_type": "stream",
     "text": [
      "/usr/local/lib/python3.10/dist-packages/pandas/core/computation/expressions.py:73: RuntimeWarning: invalid value encountered in greater\n",
      "  return op(a, b)\n",
      "<ipython-input-19-ace09d6bddf5>:64: PerformanceWarning: DataFrame is highly fragmented.  This is usually the result of calling `frame.insert` many times, which has poor performance.  Consider joining all columns at once using pd.concat(axis=1) instead. To get a de-fragmented frame, use `newframe = frame.copy()`\n",
      "  train[\"IVF 임신 실패 횟수\"] = train[\"IVF 임신 횟수\"] - train[\"IVF 시술 횟수\"]\n",
      "<ipython-input-19-ace09d6bddf5>:65: PerformanceWarning: DataFrame is highly fragmented.  This is usually the result of calling `frame.insert` many times, which has poor performance.  Consider joining all columns at once using pd.concat(axis=1) instead. To get a de-fragmented frame, use `newframe = frame.copy()`\n",
      "  test[\"IVF 임신 실패 횟수\"] = test[\"IVF 임신 횟수\"] - test[\"IVF 시술 횟수\"]\n",
      "<ipython-input-19-ace09d6bddf5>:67: PerformanceWarning: DataFrame is highly fragmented.  This is usually the result of calling `frame.insert` many times, which has poor performance.  Consider joining all columns at once using pd.concat(axis=1) instead. To get a de-fragmented frame, use `newframe = frame.copy()`\n",
      "  train[\"DI 임신 실패 횟수\"] = train[\"DI 임신 횟수\"] - train[\"DI 시술 횟수\"]\n",
      "<ipython-input-19-ace09d6bddf5>:68: PerformanceWarning: DataFrame is highly fragmented.  This is usually the result of calling `frame.insert` many times, which has poor performance.  Consider joining all columns at once using pd.concat(axis=1) instead. To get a de-fragmented frame, use `newframe = frame.copy()`\n",
      "  test[\"DI 임신 실패 횟수\"] = test[\"DI 임신 횟수\"] - test[\"DI 시술 횟수\"]\n",
      "<ipython-input-19-ace09d6bddf5>:71: PerformanceWarning: DataFrame is highly fragmented.  This is usually the result of calling `frame.insert` many times, which has poor performance.  Consider joining all columns at once using pd.concat(axis=1) instead. To get a de-fragmented frame, use `newframe = frame.copy()`\n",
      "  train['총 유산 횟수'] = train['총 임신 횟수'] - train['총 출산 횟수']\n",
      "<ipython-input-19-ace09d6bddf5>:72: PerformanceWarning: DataFrame is highly fragmented.  This is usually the result of calling `frame.insert` many times, which has poor performance.  Consider joining all columns at once using pd.concat(axis=1) instead. To get a de-fragmented frame, use `newframe = frame.copy()`\n",
      "  train['IVF 유산 횟수'] = train['IVF 임신 횟수'] - train['IVF 출산 횟수']\n",
      "<ipython-input-19-ace09d6bddf5>:73: PerformanceWarning: DataFrame is highly fragmented.  This is usually the result of calling `frame.insert` many times, which has poor performance.  Consider joining all columns at once using pd.concat(axis=1) instead. To get a de-fragmented frame, use `newframe = frame.copy()`\n",
      "  train['DI 유산 횟수'] = train['DI 임신 횟수'] - train['DI 출산 횟수']\n",
      "<ipython-input-19-ace09d6bddf5>:75: PerformanceWarning: DataFrame is highly fragmented.  This is usually the result of calling `frame.insert` many times, which has poor performance.  Consider joining all columns at once using pd.concat(axis=1) instead. To get a de-fragmented frame, use `newframe = frame.copy()`\n",
      "  test['총 유산 횟수'] = test['총 임신 횟수'] - test['총 출산 횟수']\n",
      "<ipython-input-19-ace09d6bddf5>:76: PerformanceWarning: DataFrame is highly fragmented.  This is usually the result of calling `frame.insert` many times, which has poor performance.  Consider joining all columns at once using pd.concat(axis=1) instead. To get a de-fragmented frame, use `newframe = frame.copy()`\n",
      "  test['IVF 유산 횟수'] = test['IVF 임신 횟수'] - test['IVF 출산 횟수']\n",
      "<ipython-input-19-ace09d6bddf5>:77: PerformanceWarning: DataFrame is highly fragmented.  This is usually the result of calling `frame.insert` many times, which has poor performance.  Consider joining all columns at once using pd.concat(axis=1) instead. To get a de-fragmented frame, use `newframe = frame.copy()`\n",
      "  test['DI 유산 횟수'] = test['DI 임신 횟수'] - test['DI 출산 횟수']\n",
      "<ipython-input-19-ace09d6bddf5>:80: PerformanceWarning: DataFrame is highly fragmented.  This is usually the result of calling `frame.insert` many times, which has poor performance.  Consider joining all columns at once using pd.concat(axis=1) instead. To get a de-fragmented frame, use `newframe = frame.copy()`\n",
      "  train['기증자 나이 합산'] = train['난자 기증자 나이'] + train['정자 기증자 나이']\n",
      "<ipython-input-19-ace09d6bddf5>:81: PerformanceWarning: DataFrame is highly fragmented.  This is usually the result of calling `frame.insert` many times, which has poor performance.  Consider joining all columns at once using pd.concat(axis=1) instead. To get a de-fragmented frame, use `newframe = frame.copy()`\n",
      "  test['기증자 나이 합산'] = test['난자 기증자 나이'] + test['정자 기증자 나이']\n",
      "<ipython-input-19-ace09d6bddf5>:84: PerformanceWarning: DataFrame is highly fragmented.  This is usually the result of calling `frame.insert` many times, which has poor performance.  Consider joining all columns at once using pd.concat(axis=1) instead. To get a de-fragmented frame, use `newframe = frame.copy()`\n",
      "  train['미세 주입 성공률'] = np.where(\n",
      "<ipython-input-19-ace09d6bddf5>:89: PerformanceWarning: DataFrame is highly fragmented.  This is usually the result of calling `frame.insert` many times, which has poor performance.  Consider joining all columns at once using pd.concat(axis=1) instead. To get a de-fragmented frame, use `newframe = frame.copy()`\n",
      "  test['미세 주입 성공률'] = np.where(\n",
      "<ipython-input-19-ace09d6bddf5>:96: PerformanceWarning: DataFrame is highly fragmented.  This is usually the result of calling `frame.insert` many times, which has poor performance.  Consider joining all columns at once using pd.concat(axis=1) instead. To get a de-fragmented frame, use `newframe = frame.copy()`\n",
      "  train['난자 채취 이후 경과일'] = train['난자 채취 경과일'] + train['배아 이식 경과일']\n",
      "<ipython-input-19-ace09d6bddf5>:97: PerformanceWarning: DataFrame is highly fragmented.  This is usually the result of calling `frame.insert` many times, which has poor performance.  Consider joining all columns at once using pd.concat(axis=1) instead. To get a de-fragmented frame, use `newframe = frame.copy()`\n",
      "  test['난자 채취 이후 경과일'] = test['난자 채취 경과일'] + test['배아 이식 경과일']\n",
      "<ipython-input-19-ace09d6bddf5>:100: PerformanceWarning: DataFrame is highly fragmented.  This is usually the result of calling `frame.insert` many times, which has poor performance.  Consider joining all columns at once using pd.concat(axis=1) instead. To get a de-fragmented frame, use `newframe = frame.copy()`\n",
      "  train['배아 출처'] = train['난자 출처'].astype(str) + train['정자 출처'].astype(str)\n",
      "<ipython-input-19-ace09d6bddf5>:101: PerformanceWarning: DataFrame is highly fragmented.  This is usually the result of calling `frame.insert` many times, which has poor performance.  Consider joining all columns at once using pd.concat(axis=1) instead. To get a de-fragmented frame, use `newframe = frame.copy()`\n",
      "  test['배아 출처'] = test['난자 출처'].astype(str) + test['정자 출처'].astype(str)\n",
      "<ipython-input-19-ace09d6bddf5>:120: PerformanceWarning: DataFrame is highly fragmented.  This is usually the result of calling `frame.insert` many times, which has poor performance.  Consider joining all columns at once using pd.concat(axis=1) instead. To get a de-fragmented frame, use `newframe = frame.copy()`\n",
      "  train['특정 시술 유형 (합산 유형)'] = train[[f'특시유_{cat}' for cat in categories]].sum(axis=1)\n",
      "<ipython-input-19-ace09d6bddf5>:121: PerformanceWarning: DataFrame is highly fragmented.  This is usually the result of calling `frame.insert` many times, which has poor performance.  Consider joining all columns at once using pd.concat(axis=1) instead. To get a de-fragmented frame, use `newframe = frame.copy()`\n",
      "  test['특정 시술 유형 (합산 유형)'] = test[[f'특시유_{cat}' for cat in categories]].sum(axis=1)\n",
      "<ipython-input-19-ace09d6bddf5>:131: PerformanceWarning: DataFrame is highly fragmented.  This is usually the result of calling `frame.insert` many times, which has poor performance.  Consider joining all columns at once using pd.concat(axis=1) instead. To get a de-fragmented frame, use `newframe = frame.copy()`\n",
      "  train['유전검사 (합산통합)'] = train[col].sum(axis=1)\n",
      "<ipython-input-19-ace09d6bddf5>:132: PerformanceWarning: DataFrame is highly fragmented.  This is usually the result of calling `frame.insert` many times, which has poor performance.  Consider joining all columns at once using pd.concat(axis=1) instead. To get a de-fragmented frame, use `newframe = frame.copy()`\n",
      "  test['유전검사 (합산통합)'] = test[col].sum(axis=1)\n",
      "<ipython-input-19-ace09d6bddf5>:152: PerformanceWarning: DataFrame is highly fragmented.  This is usually the result of calling `frame.insert` many times, which has poor performance.  Consider joining all columns at once using pd.concat(axis=1) instead. To get a de-fragmented frame, use `newframe = frame.copy()`\n",
      "  train['불임원인 (합산통합)'] = train[col].sum(axis=1)\n",
      "<ipython-input-19-ace09d6bddf5>:153: PerformanceWarning: DataFrame is highly fragmented.  This is usually the result of calling `frame.insert` many times, which has poor performance.  Consider joining all columns at once using pd.concat(axis=1) instead. To get a de-fragmented frame, use `newframe = frame.copy()`\n",
      "  test['불임원인 (합산통합)'] = test[col].sum(axis=1)\n",
      "<ipython-input-19-ace09d6bddf5>:172: PerformanceWarning: DataFrame is highly fragmented.  This is usually the result of calling `frame.insert` many times, which has poor performance.  Consider joining all columns at once using pd.concat(axis=1) instead. To get a de-fragmented frame, use `newframe = frame.copy()`\n",
      "  data['남성 불임 요인'] = np.select(cri, con, default = 0)\n",
      "<ipython-input-19-ace09d6bddf5>:172: PerformanceWarning: DataFrame is highly fragmented.  This is usually the result of calling `frame.insert` many times, which has poor performance.  Consider joining all columns at once using pd.concat(axis=1) instead. To get a de-fragmented frame, use `newframe = frame.copy()`\n",
      "  data['남성 불임 요인'] = np.select(cri, con, default = 0)\n",
      "<ipython-input-19-ace09d6bddf5>:195: PerformanceWarning: DataFrame is highly fragmented.  This is usually the result of calling `frame.insert` many times, which has poor performance.  Consider joining all columns at once using pd.concat(axis=1) instead. To get a de-fragmented frame, use `newframe = frame.copy()`\n",
      "  data['여성 불임 요인'] = np.select(cri, con, default = 0)\n",
      "<ipython-input-19-ace09d6bddf5>:195: PerformanceWarning: DataFrame is highly fragmented.  This is usually the result of calling `frame.insert` many times, which has poor performance.  Consider joining all columns at once using pd.concat(axis=1) instead. To get a de-fragmented frame, use `newframe = frame.copy()`\n",
      "  data['여성 불임 요인'] = np.select(cri, con, default = 0)\n",
      "<ipython-input-19-ace09d6bddf5>:210: PerformanceWarning: DataFrame is highly fragmented.  This is usually the result of calling `frame.insert` many times, which has poor performance.  Consider joining all columns at once using pd.concat(axis=1) instead. To get a de-fragmented frame, use `newframe = frame.copy()`\n",
      "  data['IVF_ICSI_최상조건'] = np.select(cri, con, default=0)\n",
      "<ipython-input-19-ace09d6bddf5>:210: PerformanceWarning: DataFrame is highly fragmented.  This is usually the result of calling `frame.insert` many times, which has poor performance.  Consider joining all columns at once using pd.concat(axis=1) instead. To get a de-fragmented frame, use `newframe = frame.copy()`\n",
      "  data['IVF_ICSI_최상조건'] = np.select(cri, con, default=0)\n"
     ]
    }
   ],
   "source": [
    "# 횟수로부터, 경험의 여부 변수를 도축\n",
    "train['임신 경험 여부'] = train['총 임신 횟수'].apply(lambda x: 1 if x > 0 else 0)\n",
    "train['출산 경험 여부'] = train['총 출산 횟수'].apply(lambda x: 1 if x > 0 else 0)\n",
    "train['시술 경험 여부'] = train['총 시술 횟수'].apply(lambda x: 1 if x > 0 else 0)\n",
    "\n",
    "test['임신 경험 여부'] = test['총 임신 횟수'].apply(lambda x: 1 if x > 0 else 0)\n",
    "test['출산 경험 여부'] = test['총 출산 횟수'].apply(lambda x: 1 if x > 0 else 0)\n",
    "test['시술 경험 여부'] = test['총 시술 횟수'].apply(lambda x: 1 if x > 0 else 0)\n",
    "\n",
    "# 나이와 이식수를 곱하므로, 그 교호작용을 꾀함\n",
    "train['나이_X_이식수'] = train['시술 당시 나이'] * train['이식된 배아 수']\n",
    "test['나이_X_이식수'] = test['시술 당시 나이'] * test['이식된 배아 수']\n",
    "\n",
    "# 배란자극이 된 배아가 이식되었을 때, 그 효능을 보고자 함.\n",
    "train['배란자극_X_이식배아수'] = train['배란 자극 여부'].astype(int) * train['이식된 배아 수']\n",
    "test['배란자극_X_이식배아수'] = test['배란 자극 여부'].astype(int) * test['이식된 배아 수']\n",
    "\n",
    "# 남은 배아수\n",
    "train['잉여_배아_수'] = train['총 생성 배아 수'] - train['이식된 배아 수']\n",
    "test['잉여_배아_수'] = test['총 생성 배아 수'] - test['이식된 배아 수']\n",
    "\n",
    "# 실제 1만 이식하는 경우\n",
    "train['단일_배아_이식_여부_수정'] = train['이식된 배아 수'].apply(lambda x: 1 if x == 1 else 0)\n",
    "test['단일_배아_이식_여부_수정'] = test['이식된 배아 수'].apply(lambda x: 1 if x == 1 else 0)\n",
    "\n",
    "# 클리닉 외에 시술이 있는지\n",
    "train['클리닉 외 시술 여부'] = (train['총 시술 횟수'] - train['클리닉 내 총 시술 횟수']) > 0\n",
    "test['클리닉 외 시술 여부'] = (test['총 시술 횟수'] - train['클리닉 내 총 시술 횟수']) > 0\n",
    "\n",
    "# 생성된 배아수와 이식된 배아수의 비율\n",
    "train['이식률'] = np.where(\n",
    "    train['총 생성 배아 수'] > 0,\n",
    "    train['이식된 배아 수'] / train['총 생성 배아 수'] * 100,\n",
    "-999)\n",
    "test['이식률'] = np.where(\n",
    "    test['총 생성 배아 수'] > 0,\n",
    "    test['이식된 배아 수'] / test['총 생성 배아 수'] * 100,\n",
    "-999)\n",
    "\n",
    "# 미세주입된 난자와 그로부터 생성된 배아수의 비율\n",
    "train['수정률'] = np.where(\n",
    "    train['미세주입된 난자 수'] > 0,\n",
    "    train['미세주입에서 생성된 배아 수'] / train['미세주입된 난자 수'] * 100,\n",
    "-999)\n",
    "test['수정률'] = np.where(\n",
    "    test['미세주입된 난자 수'] > 0,\n",
    "    test['미세주입에서 생성된 배아 수'] / test['미세주입된 난자 수'] * 100,\n",
    "-999)\n",
    "\n",
    "# 각 행의 경과일 합계를 새로운 컬럼으로 생성\n",
    "elapsed_days_columns = [\n",
    "    '난자 채취 경과일',\n",
    "    '난자 해동 경과일',\n",
    "    '난자 혼합 경과일',\n",
    "    '배아 이식 경과일',\n",
    "    '배아 해동 경과일'\n",
    "]\n",
    "\n",
    "train['총 경과일 합계'] = train[elapsed_days_columns].sum(axis=1, numeric_only=True)\n",
    "test['총 경과일 합계'] = test[elapsed_days_columns].sum(axis=1, numeric_only=True)\n",
    "\n",
    "# 임신실패 횟수 관련 \n",
    "train[\"총 임신 실패 횟수\"] = train[\"총 임신 횟수\"] - train[\"총 시술 횟수\"]\n",
    "test[\"총 임신 실패 횟수\"] = test[\"총 임신 횟수\"] - test[\"총 시술 횟수\"]\n",
    "\n",
    "train[\"IVF 임신 실패 횟수\"] = train[\"IVF 임신 횟수\"] - train[\"IVF 시술 횟수\"]\n",
    "test[\"IVF 임신 실패 횟수\"] = test[\"IVF 임신 횟수\"] - test[\"IVF 시술 횟수\"]\n",
    "\n",
    "train[\"DI 임신 실패 횟수\"] = train[\"DI 임신 횟수\"] - train[\"DI 시술 횟수\"]\n",
    "test[\"DI 임신 실패 횟수\"] = test[\"DI 임신 횟수\"] - test[\"DI 시술 횟수\"]\n",
    "\n",
    "# 유산 횟수 컬럼\n",
    "train['총 유산 횟수'] = train['총 임신 횟수'] - train['총 출산 횟수']\n",
    "train['IVF 유산 횟수'] = train['IVF 임신 횟수'] - train['IVF 출산 횟수']\n",
    "train['DI 유산 횟수'] = train['DI 임신 횟수'] - train['DI 출산 횟수']\n",
    "\n",
    "test['총 유산 횟수'] = test['총 임신 횟수'] - test['총 출산 횟수']\n",
    "test['IVF 유산 횟수'] = test['IVF 임신 횟수'] - test['IVF 출산 횟수']\n",
    "test['DI 유산 횟수'] = test['DI 임신 횟수'] - test['DI 출산 횟수']\n",
    "\n",
    "# 난자와 정자의 기증자 나이에 따라 다를 수 있을 것이다.\n",
    "train['기증자 나이 합산'] = train['난자 기증자 나이'] + train['정자 기증자 나이']\n",
    "test['기증자 나이 합산'] = test['난자 기증자 나이'] + test['정자 기증자 나이']\n",
    "\n",
    "# 미세 주입 성공률 -> 난자 미세주입 후 생성 된 배아수에 대한 정보\n",
    "train['미세 주입 성공률'] = np.where(\n",
    "    train['미세주입된 난자 수'] > 0,\n",
    "    train['미세주입에서 생성된 배아 수'] / train['미세주입된 난자 수'] * 100,\n",
    "    0\n",
    ")\n",
    "test['미세 주입 성공률'] = np.where(\n",
    "    test['미세주입된 난자 수'] > 0,\n",
    "    test['미세주입에서 생성된 배아 수'] / test['미세주입된 난자 수'] * 100,\n",
    "    0\n",
    ")\n",
    "\n",
    "# 난자 채취 이후 경과일\n",
    "train['난자 채취 이후 경과일'] = train['난자 채취 경과일'] + train['배아 이식 경과일']\n",
    "test['난자 채취 이후 경과일'] = test['난자 채취 경과일'] + test['배아 이식 경과일']\n",
    "\n",
    "# 난자 출처 + 정자 출처\n",
    "train['배아 출처'] = train['난자 출처'].astype(str) + train['정자 출처'].astype(str)\n",
    "test['배아 출처'] = test['난자 출처'].astype(str) + test['정자 출처'].astype(str)\n",
    "\n",
    "where_mapping = {\n",
    "    '11' : 1,\n",
    "    '1-1' : 2,\n",
    "    '-11' : 3,\n",
    "    '-1-1' : 4,\n",
    "    '1-999' : 5,\n",
    "    '10' : 6,\n",
    "    '-1-999': 7,\n",
    "    '-10' : 8\n",
    "}\n",
    "\n",
    "train['배아 출처'] = train['배아 출처'].map(where_mapping)\n",
    "test['배아 출처'] = test['배아 출처'].map(where_mapping)\n",
    "\n",
    "# 특정 시술 유형 카테고리 리스트\n",
    "categories = ['ICSI', 'IUI', 'ICI', 'GIFT', 'FER', 'GenericDI', 'IVI', 'BLASTOCYST', 'AH', 'Unknown', 'IVF', '-999', 'ICSI_ICSI', 'IVF_IVF', 'ICSI_Unknown', 'BLASTOCYST_IVF', 'IVF_Unknown', 'ICSI/BLASTOCYST', 'IVF/BLASTOCYST', 'ICSI/AH', 'IVF/AH', 'ICSI/BLASTOCYST_IVF/BLASTOCYST']\n",
    "\n",
    "train['특정 시술 유형 (합산 유형)'] = train[[f'특시유_{cat}' for cat in categories]].sum(axis=1)\n",
    "test['특정 시술 유형 (합산 유형)'] = test[[f'특시유_{cat}' for cat in categories]].sum(axis=1)\n",
    "\n",
    "# 유전검사를 많이 했는지에 대한 여부를 합산으로 표현\n",
    "col = [\n",
    "'착상 전 유전 검사 사용 여부',\n",
    "'착상 전 유전 진단 사용 여부',\n",
    "'PGD 시술 여부',\n",
    "'PGS 시술 여부'\n",
    "]\n",
    "\n",
    "train['유전검사 (합산통합)'] = train[col].sum(axis=1)\n",
    "test['유전검사 (합산통합)'] = test[col].sum(axis=1)\n",
    "\n",
    "# 불임원인이 많은지에 대한 여부를 합산으로 표현\n",
    "col = [ '남성 주 불임 원인',\n",
    " '남성 부 불임 원인',\n",
    " '여성 주 불임 원인',\n",
    " '여성 부 불임 원인',\n",
    " '부부 주 불임 원인',\n",
    " '부부 부 불임 원인',\n",
    " '불명확 불임 원인',\n",
    " '불임 원인 - 난관 질환',\n",
    " '불임 원인 - 남성 요인',\n",
    " '불임 원인 - 배란 장애',\n",
    " '불임 원인 - 자궁경부 문제',\n",
    " '불임 원인 - 자궁내막증',\n",
    " '불임 원인 - 정자 농도',\n",
    " '불임 원인 - 정자 면역학적 요인',\n",
    " '불임 원인 - 정자 운동성',\n",
    " '불임 원인 - 정자 형태']\n",
    "\n",
    "train['불임원인 (합산통합)'] = train[col].sum(axis=1)\n",
    "test['불임원인 (합산통합)'] = test[col].sum(axis=1)\n",
    "\n",
    "# 모든 남성 원인을 모아 한컬럼으로\n",
    "def men_cause(data):\n",
    "\n",
    "    cri = [\n",
    "        data['남성 주 불임 원인'] == 1,\n",
    "        data['남성 부 불임 원인'] == 1,\n",
    "        data['불임 원인 - 정자 농도'] == 1,\n",
    "        data['불임 원인 - 정자 면역학적 요인'] == 1,\n",
    "        data['불임 원인 - 정자 운동성'] == 1,\n",
    "        data['불임 원인 - 정자 형태'] == 1,\n",
    "        data['불임 원인 - 남성 요인'] == 1,\n",
    "    ]\n",
    "\n",
    "    con = [\n",
    "        1, 1, 1, 1, 1, 1, 1\n",
    "    ]\n",
    "\n",
    "    data['남성 불임 요인'] = np.select(cri, con, default = 0)\n",
    "\n",
    "    return data\n",
    "train = men_cause(train)\n",
    "test = men_cause(test)\n",
    "\n",
    "# 모든 여성 원인을 모아 한컬럼으로\n",
    "def woman_cause(data):\n",
    "\n",
    "    cri = [\n",
    "        data['여성 주 불임 원인'] == 1,\n",
    "        data['여성 부 불임 원인'] == 1,\n",
    "        data['불임 원인 - 정자 농도'] == 1,\n",
    "        data['불임 원인 - 난관 질환'] == 1,\n",
    "        data['불임 원인 - 배란 장애'] == 1,\n",
    "        data['불임 원인 - 자궁경부 문제'] == 1,\n",
    "        data['불임 원인 - 자궁내막증'] == 1,\n",
    "    ]\n",
    "\n",
    "    con = [\n",
    "        1, 1, 1, 1, 1, 1, 1\n",
    "    ]\n",
    "\n",
    "    data['여성 불임 요인'] = np.select(cri, con, default = 0)\n",
    "\n",
    "    return data\n",
    "train = woman_cause(train)\n",
    "test = woman_cause(test)\n",
    "\n",
    "# IVF와 ICSI에서 가장 확률이 높았던 조건들\n",
    "def IVF_ICSI_best_condition(data):\n",
    "    cri = [\n",
    "        (data['특시유_IVF'] == 1) & (data['이식된 배아 수'] > 1) & (data['배아 이식 경과일'] == 5) & (data['해당 주기 난자 주인 나이'] == 6) & (data['배란 자극 여부'] == 1), \n",
    "        (data['특시유_ICSI'] == 1) & (data['이식된 배아 수'] > 1) & (data['배아 이식 경과일'] == 5) & (data['해당 주기 난자 주인 나이'] == 6) & (data['남성 불임 요인'] == 0)\n",
    "    ]\n",
    "    con = [\n",
    "        1, 1\n",
    "    ]\n",
    "    data['IVF_ICSI_최상조건'] = np.select(cri, con, default=0)\n",
    "    return data\n",
    "train = IVF_ICSI_best_condition(train)\n",
    "test = IVF_ICSI_best_condition(test)"
   ]
  },
  {
   "cell_type": "markdown",
   "metadata": {},
   "source": [
    "## 5. Model Training\n",
    "- 앙상블과 rule-based 로 Labeling을 진행하거나, LGBM, LOGISTIC REGRESSION을 사용\n",
    "- 모델 분리  \n",
    "    - DI  \n",
    "    - IVF - 현재 시술용 - 이식 수 > 1 - MIXED (ICSI and IVF)\n",
    "    - IVF - 현재 시술용 - 이식 수 > 1 - AH\n",
    "    - IVF - 현재 시술용 - 이식 수 > 1 - BLASTOCYST\n",
    "    - IVF - 현재 시술용 - 이식 수 > 1 - ALL\n",
    "\n",
    "==========================================================  \n",
    "- IVF - 현재 시술용 - 이식 수 == 0 -> 0처리 (현재 코드에서는 LGBM 단일 확률)  \n",
    "- IVF - 현재 시술용 x -> 0처리 (현재 코드에서는 LGBM 단일 확률)  "
   ]
  },
  {
   "cell_type": "code",
   "execution_count": 20,
   "metadata": {
    "execution": {
     "iopub.execute_input": "2025-02-27T03:52:41.888807Z",
     "iopub.status.busy": "2025-02-27T03:52:41.888443Z",
     "iopub.status.idle": "2025-02-27T03:52:42.178726Z",
     "shell.execute_reply": "2025-02-27T03:52:42.177637Z",
     "shell.execute_reply.started": "2025-02-27T03:52:41.888773Z"
    },
    "trusted": true
   },
   "outputs": [],
   "source": [
    "# 모델에서 사용할 칼럼 선택하기\n",
    "col = [\n",
    "    '시술 시기 코드', '시술 유형', '배란 자극 여부', '단일 배아 이식 여부', '착상 전 유전 검사 사용 여부', \n",
    "    '착상 전 유전 진단 사용 여부', '남성 주 불임 원인', '남성 부 불임 원인', '여성 주 불임 원인', '여성 부 불임 원인',\n",
    "    '부부 주 불임 원인', '부부 부 불임 원인', '불명확 불임 원인', '불임 원인 - 난관 질환', '불임 원인 - 남성 요인',\n",
    "    '불임 원인 - 배란 장애', '불임 원인 - 자궁경부 문제', '불임 원인 - 자궁내막증', '불임 원인 - 정자 농도', '불임 원인 - 정자 면역학적 요인',\n",
    "    \n",
    "    '불임 원인 - 정자 운동성', '불임 원인 - 정자 형태', '동결 배아 사용 여부', '신선 배아 사용 여부', '기증 배아 사용 여부',\n",
    "    '대리모 여부', 'PGD 시술 여부', 'PGS 시술 여부', '난자 출처', '정자 출처',\n",
    "    '시술 당시 나이', '임신 시도 또는 마지막 임신 경과 연수', '총 시술 횟수', '클리닉 내 총 시술 횟수', 'IVF 시술 횟수',\n",
    "    \n",
    "    'DI 시술 횟수', '총 임신 횟수', 'IVF 임신 횟수', 'DI 임신 횟수', '총 출산 횟수', \n",
    "    'IVF 출산 횟수', 'DI 출산 횟수', '총 생성 배아 수', '미세주입된 난자 수', '미세주입에서 생성된 배아 수',\n",
    "    '이식된 배아 수', '미세주입 배아 이식 수', '저장된 배아 수', '미세주입 후 저장된 배아 수', '해동된 배아 수',\n",
    "    \n",
    "    '해동 난자 수', '수집된 신선 난자 수', '저장된 신선 난자 수', '혼합된 난자 수', '파트너 정자와 혼합된 난자 수',\n",
    "    '기증자 정자와 혼합된 난자 수', '난자 기증자 나이', '정자 기증자 나이', '난자 채취 경과일', '난자 해동 경과일',\n",
    "    '난자 혼합 경과일', '배아 이식 경과일', '배아 해동 경과일', 'PGS', 'PGD',\n",
    "    \n",
    "    'DI시술방법', 'IVF시술방법', '특시유_ICSI', '특시유_IUI', '특시유_ICI',\n",
    "    '특시유_GIFT', '특시유_GenericDI', '특시유_IVI', '특시유_BLASTOCYST', '특시유_AH',\n",
    "    '특시유_Unknown', '특시유_IVF', '특시유_-999', '특시유_ICSI_ICSI', '특시유_IVF_IVF',\n",
    "    \n",
    "    '특시유_ICSI_Unknown', '특시유_BLASTOCYST_IVF', '특시유_IVF_Unknown', '특시유_ICSI/BLASTOCYST', '특시유_IVF/BLASTOCYST',\n",
    "    '특시유_ICSI/AH', '특시유_IVF/AH', '특시유_ICSI/BLASTOCYST_IVF/BLASTOCYST', '배생이_-999', '배생이_기증용',\n",
    "    '배생이_난자 저장용', '배생이_배아 저장용', '배생이_연구용', '배생이_현재 시술용', '임신 경험 여부',\n",
    "    \n",
    "    '출산 경험 여부', '시술 경험 여부', '단일_배아_이식_여부_수정', '클리닉 외 시술 여부', '배아 출처',\n",
    "    '특정 시술 유형 (합산 유형)', '유전검사 (합산통합)', '불임원인 (합산통합)', '남성 불임 요인', '여성 불임 요인',\n",
    "    'IVF_ICSI_최상조건', 'IVF에서 생성된 배아 수', 'IVF 배아 이식 수', 'IVF 후 저장된 배아 수', '폐기된 배아 수',\n",
    "    \n",
    "    '미세주입 배아 실패 수', 'IVF 배아 실패 수', '해당 주기 난자 주인 나이', '나이_X_이식수', '배란자극_X_이식배아수',\n",
    "    '잉여_배아_수', '이식률', '수정률', '총 경과일 합계', '총 임신 실패 횟수',\n",
    "    'IVF 임신 실패 횟수', 'DI 임신 실패 횟수', '총 유산 횟수', 'IVF 유산 횟수', 'DI 유산 횟수',\n",
    "    '기증자 나이 합산', '미세 주입 성공률', '난자 채취 이후 경과일'\n",
    "]\n",
    "\n",
    "train_ = train[col + ['임신 성공 여부']]\n",
    "test_ = test[col]"
   ]
  },
  {
   "cell_type": "markdown",
   "metadata": {},
   "source": [
    "### 5-1. DI"
   ]
  },
  {
   "cell_type": "code",
   "execution_count": 21,
   "metadata": {
    "execution": {
     "iopub.execute_input": "2025-02-27T03:52:42.180246Z",
     "iopub.status.busy": "2025-02-27T03:52:42.179855Z",
     "iopub.status.idle": "2025-02-27T03:52:42.566526Z",
     "shell.execute_reply": "2025-02-27T03:52:42.565539Z",
     "shell.execute_reply.started": "2025-02-27T03:52:42.180211Z"
    },
    "trusted": true
   },
   "outputs": [],
   "source": [
    "X_DI = train_.drop(columns=[\"임신 성공 여부\", '나이_X_이식수', '배란자극_X_이식배아수', '기증자 나이 합산'])[train_['시술 유형'] == -100]\n",
    "y_DI = train_[train_['시술 유형'] == -100][\"임신 성공 여부\"]\n",
    "constant_columns = [col for col in X_DI.columns if X_DI[col].nunique() == 1]\n",
    "X_DI = X_DI.drop(columns=constant_columns)\n",
    "X_test_DI = test_[test_['시술 유형'] == -100].drop(columns=['나이_X_이식수', '배란자극_X_이식배아수', '기증자 나이 합산']).drop(columns=constant_columns)\n",
    "\n",
    "X_DI = X_DI[['시술 시기 코드', '배란 자극 여부', '남성 주 불임 원인', '남성 부 불임 원인', '여성 주 불임 원인',\n",
    "       '여성 부 불임 원인', '부부 주 불임 원인', '부부 부 불임 원인', '불명확 불임 원인', '불임 원인 - 난관 질환',\n",
    "       '불임 원인 - 남성 요인', '불임 원인 - 배란 장애',  '불임 원인 - 정자 농도',\n",
    "       '불임 원인 - 정자 형태', '시술 당시 나이', '임신 시도 또는 마지막 임신 경과 연수', '총 시술 횟수',\n",
    "       '클리닉 내 총 시술 횟수', 'IVF 시술 횟수', 'DI 시술 횟수', '총 임신 횟수', 'IVF 임신 횟수',\n",
    "       'DI 임신 횟수', '총 출산 횟수', 'IVF 출산 횟수', 'DI 출산 횟수', '정자 기증자 나이', '특시유_IUI',\n",
    "       '특시유_ICI', '특시유_GIFT', '특시유_IVI']]\n",
    "\n",
    "X_test_DI = X_test_DI[['시술 시기 코드', '배란 자극 여부', '남성 주 불임 원인', '남성 부 불임 원인', '여성 주 불임 원인',\n",
    "       '여성 부 불임 원인', '부부 주 불임 원인', '부부 부 불임 원인', '불명확 불임 원인', '불임 원인 - 난관 질환',\n",
    "       '불임 원인 - 남성 요인', '불임 원인 - 배란 장애',  '불임 원인 - 정자 농도',\n",
    "       '불임 원인 - 정자 형태', '시술 당시 나이', '임신 시도 또는 마지막 임신 경과 연수', '총 시술 횟수',\n",
    "       '클리닉 내 총 시술 횟수', 'IVF 시술 횟수', 'DI 시술 횟수', '총 임신 횟수', 'IVF 임신 횟수',\n",
    "       'DI 임신 횟수', '총 출산 횟수', 'IVF 출산 횟수', 'DI 출산 횟수', '정자 기증자 나이', '특시유_IUI',\n",
    "       '특시유_ICI', '특시유_GIFT', '특시유_IVI']]\n",
    "\n",
    "categorical_columns_list_DI = [\n",
    "'시술 시기 코드', '남성 주 불임 원인', '남성 부 불임 원인', '여성 주 불임 원인', '여성 부 불임 원인', '부부 주 불임 원인',\n",
    " '부부 부 불임 원인', '불명확 불임 원인', '불임 원인 - 난관 질환', '불임 원인 - 남성 요인', '불임 원인 - 배란 장애',\n",
    " '불임 원인 - 정자 농도', '불임 원인 - 정자 형태', '특시유_IUI', '특시유_ICI', '특시유_GIFT', '특시유_IVI',\n",
    "]"
   ]
  },
  {
   "cell_type": "code",
   "execution_count": 22,
   "metadata": {
    "execution": {
     "iopub.execute_input": "2025-02-27T03:52:42.567817Z",
     "iopub.status.busy": "2025-02-27T03:52:42.567533Z",
     "iopub.status.idle": "2025-02-27T03:52:42.667192Z",
     "shell.execute_reply": "2025-02-27T03:52:42.666466Z",
     "shell.execute_reply.started": "2025-02-27T03:52:42.567794Z"
    },
    "trusted": true
   },
   "outputs": [],
   "source": [
    "best_params = {'n_estimators': 14, 'max_depth': 6, 'learning_rate': 0.8437303848611053, 'colsample_bytree': 0.4475283388572317, 'min_child_weight': 76}\n",
    "\n",
    "xgb_best_model_DI = XGBClassifier(\n",
    "    **best_params,\n",
    "    random_state=42,\n",
    "    verbosity=0,\n",
    ")\n",
    "\n",
    "xgb_best_model_DI.fit(X_DI, y_DI)\n",
    "xgb_pred_DI = xgb_best_model_DI.predict_proba(X_test_DI)[:, 1]\n",
    "xgb_train_DI = xgb_best_model_DI.predict_proba(X_DI)[:, 1]"
   ]
  },
  {
   "cell_type": "code",
   "execution_count": 23,
   "metadata": {
    "execution": {
     "iopub.execute_input": "2025-02-27T03:52:42.672893Z",
     "iopub.status.busy": "2025-02-27T03:52:42.672267Z",
     "iopub.status.idle": "2025-02-27T03:52:42.759834Z",
     "shell.execute_reply": "2025-02-27T03:52:42.758632Z",
     "shell.execute_reply.started": "2025-02-27T03:52:42.672864Z"
    },
    "trusted": true
   },
   "outputs": [],
   "source": [
    "best_params = {'n_estimators': 10, 'learning_rate': 0.8535922551635277, 'feature_fraction': 0.4146990127204148, 'min_data_in_leaf': 546, 'num_leaves': 58, 'bagging_freq': 1}\n",
    "\n",
    "lgbm_best_model_DI = LGBMClassifier(**best_params, random_state=42, verbose=-1)\n",
    "lgbm_best_model_DI.fit(X_DI, y_DI, categorical_feature=categorical_columns_list_DI)\n",
    "\n",
    "lgbm_pred_DI = lgbm_best_model_DI.predict_proba(X_test_DI)[:, 1]\n",
    "lgbm_train_DI = lgbm_best_model_DI.predict_proba(X_DI)[:, 1]"
   ]
  },
  {
   "cell_type": "code",
   "execution_count": 24,
   "metadata": {
    "execution": {
     "iopub.execute_input": "2025-02-27T03:52:42.762564Z",
     "iopub.status.busy": "2025-02-27T03:52:42.762209Z",
     "iopub.status.idle": "2025-02-27T03:52:43.077926Z",
     "shell.execute_reply": "2025-02-27T03:52:43.077014Z",
     "shell.execute_reply.started": "2025-02-27T03:52:42.762535Z"
    },
    "trusted": true
   },
   "outputs": [],
   "source": [
    "train_pool = Pool(X_DI, y_DI, cat_features=categorical_columns_list_DI)\n",
    "test_pool = Pool(X_test_DI, cat_features=categorical_columns_list_DI)\n",
    "\n",
    "best_params = {'iterations': 28, 'depth': 3, 'learning_rate': 0.6779854308369335, 'rsm': 0.7858274950839619, 'min_data_in_leaf': 352}\n",
    "cat_best_model_DI = CatBoostClassifier(\n",
    "    **best_params,\n",
    "    verbose=0,\n",
    "    random_seed=42,\n",
    "    eval_metric=\"Logloss\",\n",
    ")\n",
    "\n",
    "cat_best_model_DI.fit(      \n",
    "        train_pool,\n",
    "        verbose=0,\n",
    "    )\n",
    "\n",
    "cat_pred_DI = cat_best_model_DI.predict_proba(test_pool)[:, 1]\n",
    "cat_train_DI = cat_best_model_DI.predict_proba(train_pool)[:, 1]"
   ]
  },
  {
   "cell_type": "code",
   "execution_count": 25,
   "metadata": {
    "execution": {
     "iopub.execute_input": "2025-02-27T03:52:43.079173Z",
     "iopub.status.busy": "2025-02-27T03:52:43.078844Z",
     "iopub.status.idle": "2025-02-27T03:52:43.099459Z",
     "shell.execute_reply": "2025-02-27T03:52:43.098020Z",
     "shell.execute_reply.started": "2025-02-27T03:52:43.079135Z"
    },
    "trusted": true
   },
   "outputs": [
    {
     "name": "stderr",
     "output_type": "stream",
     "text": [
      "<ipython-input-25-d8f8faba3a66>:4: PerformanceWarning: DataFrame is highly fragmented.  This is usually the result of calling `frame.insert` many times, which has poor performance.  Consider joining all columns at once using pd.concat(axis=1) instead. To get a de-fragmented frame, use `newframe = frame.copy()`\n",
      "  test_.loc[test_['시술 유형'] == -100, 'probability'] = ens_test_DI\n",
      "<ipython-input-25-d8f8faba3a66>:4: SettingWithCopyWarning: \n",
      "A value is trying to be set on a copy of a slice from a DataFrame.\n",
      "Try using .loc[row_indexer,col_indexer] = value instead\n",
      "\n",
      "See the caveats in the documentation: https://pandas.pydata.org/pandas-docs/stable/user_guide/indexing.html#returning-a-view-versus-a-copy\n",
      "  test_.loc[test_['시술 유형'] == -100, 'probability'] = ens_test_DI\n",
      "<ipython-input-25-d8f8faba3a66>:9: PerformanceWarning: DataFrame is highly fragmented.  This is usually the result of calling `frame.insert` many times, which has poor performance.  Consider joining all columns at once using pd.concat(axis=1) instead. To get a de-fragmented frame, use `newframe = frame.copy()`\n",
      "  train.loc[train['시술 유형'] == -100, 'probability'] = ens_train_DI\n"
     ]
    }
   ],
   "source": [
    "# 세 모델의 확률 Soft Voting Ensemble\n",
    "a, b, c = (1, 1, 1)\n",
    "ens_test_DI = (a * lgbm_pred_DI + b * xgb_pred_DI + c *  cat_pred_DI) / (a + b + c)\n",
    "test_.loc[test_['시술 유형'] == -100, 'probability'] = ens_test_DI\n",
    "\n",
    "# 세 모델의 확률 Soft Voting Ensemble\n",
    "a, b, c = (1, 1, 1)\n",
    "ens_train_DI = (a * lgbm_train_DI + b * xgb_train_DI + c *  cat_train_DI) / (a + b + c)\n",
    "train.loc[train['시술 유형'] == -100, 'probability'] = ens_train_DI"
   ]
  },
  {
   "cell_type": "markdown",
   "metadata": {},
   "source": [
    "### 5-2. IVF 현재 시술용인 경우"
   ]
  },
  {
   "cell_type": "code",
   "execution_count": 26,
   "metadata": {
    "execution": {
     "iopub.execute_input": "2025-02-27T03:52:43.100857Z",
     "iopub.status.busy": "2025-02-27T03:52:43.100512Z",
     "iopub.status.idle": "2025-02-27T03:52:45.502080Z",
     "shell.execute_reply": "2025-02-27T03:52:45.500967Z",
     "shell.execute_reply.started": "2025-02-27T03:52:43.100830Z"
    },
    "trusted": true
   },
   "outputs": [
    {
     "name": "stderr",
     "output_type": "stream",
     "text": [
      "<ipython-input-26-2bff6e6e2203>:1: UserWarning: Boolean Series key will be reindexed to match DataFrame index.\n",
      "  X_IVF_NOW_YES = train_.drop(columns=[\"임신 성공 여부\"])[train_['시술 유형'] == 100][train_['배생이_현재 시술용'] == 1][train_['이식된 배아 수'] != 0].drop(columns=['DI시술방법'])\n",
      "<ipython-input-26-2bff6e6e2203>:1: UserWarning: Boolean Series key will be reindexed to match DataFrame index.\n",
      "  X_IVF_NOW_YES = train_.drop(columns=[\"임신 성공 여부\"])[train_['시술 유형'] == 100][train_['배생이_현재 시술용'] == 1][train_['이식된 배아 수'] != 0].drop(columns=['DI시술방법'])\n",
      "<ipython-input-26-2bff6e6e2203>:2: UserWarning: Boolean Series key will be reindexed to match DataFrame index.\n",
      "  y_IVF_NOW_YES = train_[train_['시술 유형'] == 100][train_['배생이_현재 시술용'] == 1][train_['이식된 배아 수'] != 0][\"임신 성공 여부\"]\n",
      "<ipython-input-26-2bff6e6e2203>:2: UserWarning: Boolean Series key will be reindexed to match DataFrame index.\n",
      "  y_IVF_NOW_YES = train_[train_['시술 유형'] == 100][train_['배생이_현재 시술용'] == 1][train_['이식된 배아 수'] != 0][\"임신 성공 여부\"]\n",
      "<ipython-input-26-2bff6e6e2203>:6: UserWarning: Boolean Series key will be reindexed to match DataFrame index.\n",
      "  X_test_IVF_NOW_YES = test_[test_['시술 유형'] == 100][test_['배생이_현재 시술용'] == 1][test_['이식된 배아 수'] != 0].drop(columns=constant_columns).drop(columns=['DI시술방법']).drop(columns='probability')\n",
      "<ipython-input-26-2bff6e6e2203>:6: UserWarning: Boolean Series key will be reindexed to match DataFrame index.\n",
      "  X_test_IVF_NOW_YES = test_[test_['시술 유형'] == 100][test_['배생이_현재 시술용'] == 1][test_['이식된 배아 수'] != 0].drop(columns=constant_columns).drop(columns=['DI시술방법']).drop(columns='probability')\n"
     ]
    }
   ],
   "source": [
    "X_IVF_NOW_YES = train_.drop(columns=[\"임신 성공 여부\"])[train_['시술 유형'] == 100][train_['배생이_현재 시술용'] == 1][train_['이식된 배아 수'] != 0].drop(columns=['DI시술방법'])\n",
    "y_IVF_NOW_YES = train_[train_['시술 유형'] == 100][train_['배생이_현재 시술용'] == 1][train_['이식된 배아 수'] != 0][\"임신 성공 여부\"]\n",
    "constant_columns = [col for col in X_IVF_NOW_YES.columns if X_IVF_NOW_YES[col].nunique() == 1]\n",
    "X_IVF_NOW_YES = X_IVF_NOW_YES.drop(columns=constant_columns)\n",
    "\n",
    "X_test_IVF_NOW_YES = test_[test_['시술 유형'] == 100][test_['배생이_현재 시술용'] == 1][test_['이식된 배아 수'] != 0].drop(columns=constant_columns).drop(columns=['DI시술방법']).drop(columns='probability')\n",
    "\n",
    "categorical_columns_list_IVF_NOW_YES = [\n",
    "    'PGS', 'PGD', '특시유_ICSI', '특시유_BLASTOCYST', '특시유_AH', '특시유_Unknown', '특시유_IVF', '특시유_ICSI_ICSI', '특시유_IVF_IVF', '특시유_ICSI_Unknown', '특시유_BLASTOCYST_IVF',\n",
    "    '특시유_IVF_Unknown', '배생이_기증용', '배생이_난자 저장용', '배생이_배아 저장용', '임신 경험 여부', '출산 경험 여부', '시술 경험 여부', '클리닉 외 시술 여부', '배아 출처', '특정 시술 유형 (합산 유형)', '불임원인 (합산통합)',\n",
    "    '남성 불임 요인', '여성 불임 요인', 'IVF_ICSI_최상조건', '시술 시기 코드', '배란 자극 여부', '단일 배아 이식 여부', '남성 주 불임 원인', '남성 부 불임 원인', '여성 주 불임 원인', '여성 부 불임 원인', '부부 주 불임 원인',\n",
    "    '부부 부 불임 원인', '불명확 불임 원인', '불임 원인 - 난관 질환', '불임 원인 - 남성 요인', '불임 원인 - 배란 장애', '불임 원인 - 자궁경부 문제', '불임 원인 - 자궁내막증', '불임 원인 - 정자 농도', '불임 원인 - 정자 면역학적 요인', \n",
    "    '불임 원인 - 정자 운동성', '불임 원인 - 정자 형태', '동결 배아 사용 여부', '신선 배아 사용 여부', '기증 배아 사용 여부', '대리모 여부', 'PGD 시술 여부', 'PGS 시술 여부', '난자 출처', '정자 출처'\n",
    "]"
   ]
  },
  {
   "cell_type": "code",
   "execution_count": 27,
   "metadata": {
    "execution": {
     "iopub.execute_input": "2025-02-27T03:52:45.503259Z",
     "iopub.status.busy": "2025-02-27T03:52:45.502919Z",
     "iopub.status.idle": "2025-02-27T03:52:58.454383Z",
     "shell.execute_reply": "2025-02-27T03:52:58.453537Z",
     "shell.execute_reply.started": "2025-02-27T03:52:45.503233Z"
    },
    "trusted": true
   },
   "outputs": [],
   "source": [
    "best_params = {'n_estimators': 383, 'max_depth': 4, 'learning_rate': 0.09073667416758903, 'colsample_bytree': 0.4391667088663101, 'min_child_weight': 327}\n",
    "xgb_best_model_IVF = XGBClassifier(\n",
    "    **best_params,\n",
    "    random_state=42,\n",
    "    verbosity=0,\n",
    ")\n",
    "\n",
    "xgb_best_model_IVF.fit(X_IVF_NOW_YES, y_IVF_NOW_YES)\n",
    "xgb_pred_IVF_NOW_YES = xgb_best_model_IVF.predict_proba(X_test_IVF_NOW_YES)[:, 1]\n",
    "xgb_train_IVF_NOW_YES = xgb_best_model_IVF.predict_proba(X_IVF_NOW_YES)[:, 1]"
   ]
  },
  {
   "cell_type": "code",
   "execution_count": 28,
   "metadata": {
    "execution": {
     "iopub.execute_input": "2025-02-27T03:52:58.455688Z",
     "iopub.status.busy": "2025-02-27T03:52:58.455362Z",
     "iopub.status.idle": "2025-02-27T03:53:19.753153Z",
     "shell.execute_reply": "2025-02-27T03:53:19.752059Z",
     "shell.execute_reply.started": "2025-02-27T03:52:58.455663Z"
    },
    "trusted": true
   },
   "outputs": [],
   "source": [
    "best_params = {'n_estimators': 297, 'learning_rate': 0.027999291772526146, 'feature_fraction': 0.3844858949031732, 'min_data_in_leaf': 714, 'num_leaves': 44, 'bagging_freq': 79, 'bagging_fraction': 0.8726523819009622, 'max_bin': 7, 'min_child_weight': 0.039415245205013445}\n",
    "lgbm_best_model_IVF = LGBMClassifier(**best_params, random_state=42, verbose=-1)\n",
    "lgbm_best_model_IVF.fit(X_IVF_NOW_YES, y_IVF_NOW_YES, categorical_feature=categorical_columns_list_IVF_NOW_YES)\n",
    "\n",
    "lgbm_pred_IVF_NOW_YES = lgbm_best_model_IVF.predict_proba(X_test_IVF_NOW_YES)[:, 1]\n",
    "lgbm_train_IVF_NOW_YES = lgbm_best_model_IVF.predict_proba(X_IVF_NOW_YES)[:, 1]"
   ]
  },
  {
   "cell_type": "code",
   "execution_count": 29,
   "metadata": {
    "execution": {
     "iopub.execute_input": "2025-02-27T03:53:19.754551Z",
     "iopub.status.busy": "2025-02-27T03:53:19.754194Z",
     "iopub.status.idle": "2025-02-27T03:54:10.745260Z",
     "shell.execute_reply": "2025-02-27T03:54:10.744321Z",
     "shell.execute_reply.started": "2025-02-27T03:53:19.754513Z"
    },
    "trusted": true
   },
   "outputs": [],
   "source": [
    "train_pool = Pool(X_IVF_NOW_YES, y_IVF_NOW_YES, cat_features=categorical_columns_list_IVF_NOW_YES) \n",
    "test_pool = Pool(X_test_IVF_NOW_YES, cat_features=categorical_columns_list_IVF_NOW_YES)\n",
    "\n",
    "best_params =  {'learning_rate': 0.030695032701723943, 'rsm': 0.6755616862306184, 'min_data_in_leaf': 269, 'border_count': 6, 'one_hot_max_size': 12}\n",
    "cat_best_model_IVF = CatBoostClassifier(\n",
    "    **best_params,\n",
    "    verbose=0,\n",
    "    random_seed=42,\n",
    "    eval_metric=\"Logloss\",\n",
    "    thread_count=4\n",
    ")\n",
    "\n",
    "cat_best_model_IVF.fit(      \n",
    "        train_pool,\n",
    "        verbose=0,\n",
    ")\n",
    "\n",
    "cat_pred_IVF_NOW_YES = cat_best_model_IVF.predict_proba(test_pool)[:, 1]\n",
    "cat_train_IVF_NOW_YES = cat_best_model_IVF.predict_proba(train_pool)[:, 1]"
   ]
  },
  {
   "cell_type": "code",
   "execution_count": 30,
   "metadata": {
    "execution": {
     "iopub.execute_input": "2025-02-27T03:54:10.746728Z",
     "iopub.status.busy": "2025-02-27T03:54:10.746377Z",
     "iopub.status.idle": "2025-02-27T03:54:10.764582Z",
     "shell.execute_reply": "2025-02-27T03:54:10.763494Z",
     "shell.execute_reply.started": "2025-02-27T03:54:10.746703Z"
    },
    "trusted": true
   },
   "outputs": [],
   "source": [
    "# 세 모델의 확률 Soft Voting Ensemble\n",
    "a, b, c = (13, 9, 10)\n",
    "ens_test_IVF_NOW_YES = (a * lgbm_pred_IVF_NOW_YES + b * xgb_pred_IVF_NOW_YES + c *  cat_pred_IVF_NOW_YES) / (a + b + c)\n",
    "test_.loc[(test_['시술 유형'] == 100) & (test_['배생이_현재 시술용'] == 1) & (test_['이식된 배아 수'] != 0), 'probability'] = ens_test_IVF_NOW_YES\n",
    "\n",
    "# 세 모델의 확률 Soft Voting Ensemble\n",
    "a, b, c = (13, 9, 10)\n",
    "ens_train_IVF_NOW_YES = (a * lgbm_train_IVF_NOW_YES + b * xgb_train_IVF_NOW_YES + c *  cat_train_IVF_NOW_YES) / (a + b + c)\n",
    "train.loc[(train['시술 유형'] == 100) & (train['배생이_현재 시술용'] == 1) & (train['이식된 배아 수'] != 0), 'probability'] = ens_train_IVF_NOW_YES"
   ]
  },
  {
   "cell_type": "markdown",
   "metadata": {
    "execution": {
     "iopub.execute_input": "2025-02-20T02:15:11.862276Z",
     "iopub.status.busy": "2025-02-20T02:15:11.861803Z",
     "iopub.status.idle": "2025-02-20T02:15:11.866507Z",
     "shell.execute_reply": "2025-02-20T02:15:11.865228Z",
     "shell.execute_reply.started": "2025-02-20T02:15:11.862245Z"
    }
   },
   "source": [
    "### 5-3. 이식된 배아 수가 없는 경우\n",
    "- 당연히 임신할 수가 없다. -> 전부 0 혹은 LOGISTIC / LGBM"
   ]
  },
  {
   "cell_type": "code",
   "execution_count": 31,
   "metadata": {
    "execution": {
     "iopub.execute_input": "2025-02-27T03:54:10.765853Z",
     "iopub.status.busy": "2025-02-27T03:54:10.765544Z",
     "iopub.status.idle": "2025-02-27T03:54:12.397270Z",
     "shell.execute_reply": "2025-02-27T03:54:12.396187Z",
     "shell.execute_reply.started": "2025-02-27T03:54:10.765828Z"
    },
    "trusted": true
   },
   "outputs": [
    {
     "name": "stderr",
     "output_type": "stream",
     "text": [
      "<ipython-input-31-d4040318bba1>:1: UserWarning: Boolean Series key will be reindexed to match DataFrame index.\n",
      "  X_IVF_NOW_NO = train_.drop(columns=[\"임신 성공 여부\"])[train_['시술 유형'] == 100][train_['배생이_현재 시술용'] == 1][train_['이식된 배아 수'] == 0].drop(columns=['DI시술방법'])\n",
      "<ipython-input-31-d4040318bba1>:1: UserWarning: Boolean Series key will be reindexed to match DataFrame index.\n",
      "  X_IVF_NOW_NO = train_.drop(columns=[\"임신 성공 여부\"])[train_['시술 유형'] == 100][train_['배생이_현재 시술용'] == 1][train_['이식된 배아 수'] == 0].drop(columns=['DI시술방법'])\n",
      "<ipython-input-31-d4040318bba1>:2: UserWarning: Boolean Series key will be reindexed to match DataFrame index.\n",
      "  y_IVF_NOW_NO = train_[train_['시술 유형'] == 100][train_['배생이_현재 시술용'] == 1][train_['이식된 배아 수'] == 0][\"임신 성공 여부\"]\n",
      "<ipython-input-31-d4040318bba1>:2: UserWarning: Boolean Series key will be reindexed to match DataFrame index.\n",
      "  y_IVF_NOW_NO = train_[train_['시술 유형'] == 100][train_['배생이_현재 시술용'] == 1][train_['이식된 배아 수'] == 0][\"임신 성공 여부\"]\n",
      "<ipython-input-31-d4040318bba1>:6: UserWarning: Boolean Series key will be reindexed to match DataFrame index.\n",
      "  X_test_IVF_NOW_NO = test_[test_['시술 유형'] == 100][test_['배생이_현재 시술용'] == 1][test_['이식된 배아 수'] == 0].drop(columns=constant_columns).drop(columns=['DI시술방법']).drop(columns='probability')\n",
      "<ipython-input-31-d4040318bba1>:6: UserWarning: Boolean Series key will be reindexed to match DataFrame index.\n",
      "  X_test_IVF_NOW_NO = test_[test_['시술 유형'] == 100][test_['배생이_현재 시술용'] == 1][test_['이식된 배아 수'] == 0].drop(columns=constant_columns).drop(columns=['DI시술방법']).drop(columns='probability')\n"
     ]
    }
   ],
   "source": [
    "X_IVF_NOW_NO = train_.drop(columns=[\"임신 성공 여부\"])[train_['시술 유형'] == 100][train_['배생이_현재 시술용'] == 1][train_['이식된 배아 수'] == 0].drop(columns=['DI시술방법'])\n",
    "y_IVF_NOW_NO = train_[train_['시술 유형'] == 100][train_['배생이_현재 시술용'] == 1][train_['이식된 배아 수'] == 0][\"임신 성공 여부\"]\n",
    "constant_columns = [col for col in X_IVF_NOW_NO.columns if X_IVF_NOW_NO[col].nunique() == 1]\n",
    "X_IVF_NOW_NO = X_IVF_NOW_NO.drop(columns=constant_columns)\n",
    "\n",
    "X_test_IVF_NOW_NO = test_[test_['시술 유형'] == 100][test_['배생이_현재 시술용'] == 1][test_['이식된 배아 수'] == 0].drop(columns=constant_columns).drop(columns=['DI시술방법']).drop(columns='probability')"
   ]
  },
  {
   "cell_type": "code",
   "execution_count": 32,
   "metadata": {
    "execution": {
     "iopub.execute_input": "2025-02-27T03:54:12.398470Z",
     "iopub.status.busy": "2025-02-27T03:54:12.398199Z",
     "iopub.status.idle": "2025-02-27T03:54:12.641318Z",
     "shell.execute_reply": "2025-02-27T03:54:12.640486Z",
     "shell.execute_reply.started": "2025-02-27T03:54:12.398449Z"
    },
    "trusted": true
   },
   "outputs": [],
   "source": [
    "best_params = {'n_estimators': 19, 'learning_rate': 0.6274517807598488, 'feature_fraction': 0.22284237439031715, 'min_data_in_leaf': 470, 'num_leaves': 29, 'max_bin': 3, 'bagging_freq': 12, 'bagging_fraction': 0.7150190897915791}\n",
    "lgbm_best_model_IVF_NOW_NO = LGBMClassifier(**best_params, random_state=42, verbose=-1)\n",
    "lgbm_best_model_IVF_NOW_NO.fit(X_IVF_NOW_NO, y_IVF_NOW_NO)\n",
    "\n",
    "lgbm_pred_IVF_NOW_NO = lgbm_best_model_IVF_NOW_NO.predict_proba(X_test_IVF_NOW_NO)[:, 1]\n",
    "lgbm_train_IVF_NOW_NO = lgbm_best_model_IVF_NOW_NO.predict_proba(X_IVF_NOW_NO)[:, 1]"
   ]
  },
  {
   "cell_type": "code",
   "execution_count": 33,
   "metadata": {
    "execution": {
     "iopub.execute_input": "2025-02-27T03:54:12.642730Z",
     "iopub.status.busy": "2025-02-27T03:54:12.642330Z",
     "iopub.status.idle": "2025-02-27T03:54:12.654995Z",
     "shell.execute_reply": "2025-02-27T03:54:12.653851Z",
     "shell.execute_reply.started": "2025-02-27T03:54:12.642695Z"
    },
    "trusted": true
   },
   "outputs": [],
   "source": [
    "test_.loc[(test_['시술 유형'] == 100) & (test_['배생이_현재 시술용'] == 1) & (test_['이식된 배아 수'] == 0), 'probability'] = lgbm_pred_IVF_NOW_NO\n",
    "train.loc[(train['시술 유형'] == 100) & (train['배생이_현재 시술용'] == 1) & (train['이식된 배아 수'] == 0), 'probability'] = lgbm_train_IVF_NOW_NO"
   ]
  },
  {
   "cell_type": "markdown",
   "metadata": {},
   "source": [
    "### 5-4. IVF 현재 시술용 아닌 경우\n",
    "- 임신의 용도가 아니다. -> 전부 0 혹은 LOGISTIC / LGBM"
   ]
  },
  {
   "cell_type": "code",
   "execution_count": 34,
   "metadata": {
    "execution": {
     "iopub.execute_input": "2025-02-27T03:54:12.656560Z",
     "iopub.status.busy": "2025-02-27T03:54:12.656156Z",
     "iopub.status.idle": "2025-02-27T03:54:13.706968Z",
     "shell.execute_reply": "2025-02-27T03:54:13.705834Z",
     "shell.execute_reply.started": "2025-02-27T03:54:12.656525Z"
    },
    "trusted": true
   },
   "outputs": [
    {
     "name": "stderr",
     "output_type": "stream",
     "text": [
      "<ipython-input-34-615eddb60c09>:1: UserWarning: Boolean Series key will be reindexed to match DataFrame index.\n",
      "  X_IVF_NOTNOW = train_.drop(columns=[\"임신 성공 여부\"])[train_['시술 유형'] == 100][train_['배생이_현재 시술용'] == 0].drop(columns=['DI시술방법'])\n",
      "<ipython-input-34-615eddb60c09>:2: UserWarning: Boolean Series key will be reindexed to match DataFrame index.\n",
      "  y_IVF_NOTNOW = train_[train_['시술 유형'] == 100][train_['배생이_현재 시술용'] == 0][\"임신 성공 여부\"]\n",
      "<ipython-input-34-615eddb60c09>:6: UserWarning: Boolean Series key will be reindexed to match DataFrame index.\n",
      "  X_test_IVF_NOTNOW = test_[test_['시술 유형'] == 100][test_['배생이_현재 시술용'] == 0].drop(columns=constant_columns).drop(columns=['DI시술방법']).drop(columns='probability')\n"
     ]
    }
   ],
   "source": [
    "X_IVF_NOTNOW = train_.drop(columns=[\"임신 성공 여부\"])[train_['시술 유형'] == 100][train_['배생이_현재 시술용'] == 0].drop(columns=['DI시술방법'])\n",
    "y_IVF_NOTNOW = train_[train_['시술 유형'] == 100][train_['배생이_현재 시술용'] == 0][\"임신 성공 여부\"]\n",
    "constant_columns = [col for col in X_IVF_NOTNOW.columns if X_IVF_NOTNOW[col].nunique() == 1]\n",
    "X_IVF_NOTNOW = X_IVF_NOTNOW.drop(columns=constant_columns)\n",
    "\n",
    "X_test_IVF_NOTNOW = test_[test_['시술 유형'] == 100][test_['배생이_현재 시술용'] == 0].drop(columns=constant_columns).drop(columns=['DI시술방법']).drop(columns='probability')"
   ]
  },
  {
   "cell_type": "code",
   "execution_count": 35,
   "metadata": {
    "execution": {
     "iopub.execute_input": "2025-02-27T03:54:13.708339Z",
     "iopub.status.busy": "2025-02-27T03:54:13.707955Z",
     "iopub.status.idle": "2025-02-27T03:54:13.812358Z",
     "shell.execute_reply": "2025-02-27T03:54:13.811202Z",
     "shell.execute_reply.started": "2025-02-27T03:54:13.708304Z"
    },
    "trusted": true
   },
   "outputs": [],
   "source": [
    "best_params = {'n_estimators': 11, 'learning_rate': 0.6427329093577366, 'feature_fraction': 0.266606084905757, 'min_data_in_leaf': 636, 'num_leaves': 93, 'max_bin': 6, 'bagging_freq': 89, 'bagging_fraction': 0.2800177699349053} # {'n_estimators': 14, 'learning_rate': 0.15192316905303452, 'feature_fraction': 0.8941396223112753, 'min_data_in_leaf': 2464, 'num_leaves': 46}\n",
    "lgbm_best_model_IVF_NOTNOW = LGBMClassifier(**best_params, random_state=42, verbose=-1)\n",
    "lgbm_best_model_IVF_NOTNOW.fit(X_IVF_NOTNOW, y_IVF_NOTNOW)\n",
    "\n",
    "lgbm_pred_IVF_NOTNOW = lgbm_best_model_IVF_NOTNOW.predict_proba(X_test_IVF_NOTNOW)[:, 1]\n",
    "lgbm_train_IVF_NOTNOW = lgbm_best_model_IVF_NOTNOW.predict_proba(X_IVF_NOTNOW)[:, 1]"
   ]
  },
  {
   "cell_type": "code",
   "execution_count": 36,
   "metadata": {
    "execution": {
     "iopub.execute_input": "2025-02-27T03:54:13.813764Z",
     "iopub.status.busy": "2025-02-27T03:54:13.813391Z",
     "iopub.status.idle": "2025-02-27T03:54:13.824477Z",
     "shell.execute_reply": "2025-02-27T03:54:13.823486Z",
     "shell.execute_reply.started": "2025-02-27T03:54:13.813738Z"
    },
    "trusted": true
   },
   "outputs": [],
   "source": [
    "test_.loc[(test_['시술 유형'] == 100) & (test_['배생이_현재 시술용'] == 0), 'probability'] = lgbm_pred_IVF_NOTNOW\n",
    "train.loc[(train['시술 유형'] == 100) & (train['배생이_현재 시술용'] == 0), 'probability'] = lgbm_train_IVF_NOTNOW"
   ]
  },
  {
   "cell_type": "markdown",
   "metadata": {},
   "source": [
    "### 5-5.MIXED"
   ]
  },
  {
   "cell_type": "code",
   "execution_count": 37,
   "metadata": {
    "execution": {
     "iopub.execute_input": "2025-02-27T03:54:13.825756Z",
     "iopub.status.busy": "2025-02-27T03:54:13.825481Z",
     "iopub.status.idle": "2025-02-27T03:54:15.956893Z",
     "shell.execute_reply": "2025-02-27T03:54:15.955808Z",
     "shell.execute_reply.started": "2025-02-27T03:54:13.825733Z"
    },
    "trusted": true
   },
   "outputs": [
    {
     "name": "stderr",
     "output_type": "stream",
     "text": [
      "<ipython-input-37-766dea61be03>:2: UserWarning: Boolean Series key will be reindexed to match DataFrame index.\n",
      "  X_MIXED = train_[train_['이식된 배아 수'] != 0].drop(columns=[\"임신 성공 여부\"])[train_['시술 유형'] == 100][train_['배생이_현재 시술용'] == 1].drop(columns=['DI시술방법'])[train['특정 시술 유형'].isin(mixed_list)]\n",
      "<ipython-input-37-766dea61be03>:2: UserWarning: Boolean Series key will be reindexed to match DataFrame index.\n",
      "  X_MIXED = train_[train_['이식된 배아 수'] != 0].drop(columns=[\"임신 성공 여부\"])[train_['시술 유형'] == 100][train_['배생이_현재 시술용'] == 1].drop(columns=['DI시술방법'])[train['특정 시술 유형'].isin(mixed_list)]\n",
      "<ipython-input-37-766dea61be03>:2: UserWarning: Boolean Series key will be reindexed to match DataFrame index.\n",
      "  X_MIXED = train_[train_['이식된 배아 수'] != 0].drop(columns=[\"임신 성공 여부\"])[train_['시술 유형'] == 100][train_['배생이_현재 시술용'] == 1].drop(columns=['DI시술방법'])[train['특정 시술 유형'].isin(mixed_list)]\n",
      "<ipython-input-37-766dea61be03>:3: UserWarning: Boolean Series key will be reindexed to match DataFrame index.\n",
      "  y_MIXED = train_[train_['이식된 배아 수'] != 0][train_['시술 유형'] == 100][train_['배생이_현재 시술용'] == 1][train['특정 시술 유형'].isin(mixed_list)][\"임신 성공 여부\"]\n",
      "<ipython-input-37-766dea61be03>:3: UserWarning: Boolean Series key will be reindexed to match DataFrame index.\n",
      "  y_MIXED = train_[train_['이식된 배아 수'] != 0][train_['시술 유형'] == 100][train_['배생이_현재 시술용'] == 1][train['특정 시술 유형'].isin(mixed_list)][\"임신 성공 여부\"]\n",
      "<ipython-input-37-766dea61be03>:3: UserWarning: Boolean Series key will be reindexed to match DataFrame index.\n",
      "  y_MIXED = train_[train_['이식된 배아 수'] != 0][train_['시술 유형'] == 100][train_['배생이_현재 시술용'] == 1][train['특정 시술 유형'].isin(mixed_list)][\"임신 성공 여부\"]\n",
      "<ipython-input-37-766dea61be03>:7: UserWarning: Boolean Series key will be reindexed to match DataFrame index.\n",
      "  X_test_MIXED = test_[test_['시술 유형'] == 100][test_['배생이_현재 시술용'] == 1][test_['이식된 배아 수'] != 0].drop(columns=constant_columns).drop(columns=['DI시술방법']).drop(columns='probability')[test['특정 시술 유형'].isin(mixed_list)]\n",
      "<ipython-input-37-766dea61be03>:7: UserWarning: Boolean Series key will be reindexed to match DataFrame index.\n",
      "  X_test_MIXED = test_[test_['시술 유형'] == 100][test_['배생이_현재 시술용'] == 1][test_['이식된 배아 수'] != 0].drop(columns=constant_columns).drop(columns=['DI시술방법']).drop(columns='probability')[test['특정 시술 유형'].isin(mixed_list)]\n",
      "<ipython-input-37-766dea61be03>:7: UserWarning: Boolean Series key will be reindexed to match DataFrame index.\n",
      "  X_test_MIXED = test_[test_['시술 유형'] == 100][test_['배생이_현재 시술용'] == 1][test_['이식된 배아 수'] != 0].drop(columns=constant_columns).drop(columns=['DI시술방법']).drop(columns='probability')[test['특정 시술 유형'].isin(mixed_list)]\n"
     ]
    }
   ],
   "source": [
    "mixed_list = [\"ICSI_IVF\", \"IVF_ICSI\", \"ICSI/BLASTOCYST_IVF/BLASTOCYST\", \"IVF/AH_ICSI/AH\"]\n",
    "X_MIXED = train_[train_['이식된 배아 수'] != 0].drop(columns=[\"임신 성공 여부\"])[train_['시술 유형'] == 100][train_['배생이_현재 시술용'] == 1].drop(columns=['DI시술방법'])[train['특정 시술 유형'].isin(mixed_list)]\n",
    "y_MIXED = train_[train_['이식된 배아 수'] != 0][train_['시술 유형'] == 100][train_['배생이_현재 시술용'] == 1][train['특정 시술 유형'].isin(mixed_list)][\"임신 성공 여부\"]\n",
    "constant_columns = [col for col in X_MIXED.columns if X_MIXED[col].nunique() == 1]\n",
    "\n",
    "X_MIXED = X_MIXED.drop(columns=constant_columns)\n",
    "X_test_MIXED = test_[test_['시술 유형'] == 100][test_['배생이_현재 시술용'] == 1][test_['이식된 배아 수'] != 0].drop(columns=constant_columns).drop(columns=['DI시술방법']).drop(columns='probability')[test['특정 시술 유형'].isin(mixed_list)]"
   ]
  },
  {
   "cell_type": "code",
   "execution_count": 38,
   "metadata": {
    "execution": {
     "iopub.execute_input": "2025-02-27T03:54:15.957977Z",
     "iopub.status.busy": "2025-02-27T03:54:15.957738Z",
     "iopub.status.idle": "2025-02-27T03:54:15.981876Z",
     "shell.execute_reply": "2025-02-27T03:54:15.980898Z",
     "shell.execute_reply.started": "2025-02-27T03:54:15.957957Z"
    },
    "trusted": true
   },
   "outputs": [],
   "source": [
    "best_params = {'n_estimators': 5, 'learning_rate': 0.46500212903895416, 'feature_fraction': 0.47911362428539434, 'min_data_in_leaf': 185, 'num_leaves': 2}\n",
    "lgbm_best_model_MIXED = LGBMClassifier(**best_params, random_state=42, verbose=-1)\n",
    "lgbm_best_model_MIXED.fit(X_MIXED, y_MIXED)\n",
    "\n",
    "lgbm_pred_MIXED = lgbm_best_model_MIXED.predict_proba(X_test_MIXED)[:, 1]\n",
    "lgbm_train_MIXED = lgbm_best_model_MIXED.predict_proba(X_MIXED)[:, 1]"
   ]
  },
  {
   "cell_type": "code",
   "execution_count": 39,
   "metadata": {
    "execution": {
     "iopub.execute_input": "2025-02-27T03:54:15.983117Z",
     "iopub.status.busy": "2025-02-27T03:54:15.982850Z",
     "iopub.status.idle": "2025-02-27T03:54:16.014204Z",
     "shell.execute_reply": "2025-02-27T03:54:16.012946Z",
     "shell.execute_reply.started": "2025-02-27T03:54:15.983094Z"
    },
    "trusted": true
   },
   "outputs": [
    {
     "name": "stderr",
     "output_type": "stream",
     "text": [
      "<ipython-input-39-e7a4ad119ff9>:2: PerformanceWarning: DataFrame is highly fragmented.  This is usually the result of calling `frame.insert` many times, which has poor performance.  Consider joining all columns at once using pd.concat(axis=1) instead. To get a de-fragmented frame, use `newframe = frame.copy()`\n",
      "  train_.loc[(train['특정 시술 유형'].isin(mixed_list)) & (train_['배생이_현재 시술용'] == 1) & (train_['이식된 배아 수'] != 0), 'probability'] = lgbm_train_MIXED\n",
      "<ipython-input-39-e7a4ad119ff9>:2: SettingWithCopyWarning: \n",
      "A value is trying to be set on a copy of a slice from a DataFrame.\n",
      "Try using .loc[row_indexer,col_indexer] = value instead\n",
      "\n",
      "See the caveats in the documentation: https://pandas.pydata.org/pandas-docs/stable/user_guide/indexing.html#returning-a-view-versus-a-copy\n",
      "  train_.loc[(train['특정 시술 유형'].isin(mixed_list)) & (train_['배생이_현재 시술용'] == 1) & (train_['이식된 배아 수'] != 0), 'probability'] = lgbm_train_MIXED\n"
     ]
    }
   ],
   "source": [
    "test_.loc[(test['특정 시술 유형'].isin(mixed_list)) & (test_['배생이_현재 시술용'] == 1) & (test_['이식된 배아 수'] != 0), 'probability'] = lgbm_pred_MIXED\n",
    "train_.loc[(train['특정 시술 유형'].isin(mixed_list)) & (train_['배생이_현재 시술용'] == 1) & (train_['이식된 배아 수'] != 0), 'probability'] = lgbm_train_MIXED"
   ]
  },
  {
   "cell_type": "markdown",
   "metadata": {},
   "source": [
    "### 5-6. BLASTOCYST"
   ]
  },
  {
   "cell_type": "code",
   "execution_count": 40,
   "metadata": {
    "execution": {
     "iopub.execute_input": "2025-02-27T03:54:16.015530Z",
     "iopub.status.busy": "2025-02-27T03:54:16.015226Z",
     "iopub.status.idle": "2025-02-27T03:54:17.838777Z",
     "shell.execute_reply": "2025-02-27T03:54:17.837703Z",
     "shell.execute_reply.started": "2025-02-27T03:54:16.015507Z"
    },
    "trusted": true
   },
   "outputs": [
    {
     "name": "stderr",
     "output_type": "stream",
     "text": [
      "<ipython-input-40-c5511c054a62>:1: UserWarning: Boolean Series key will be reindexed to match DataFrame index.\n",
      "  X_BLASTOCYST = train_.drop(columns=[\"임신 성공 여부\"])[train_['시술 유형'] == 100][train_['배생이_현재 시술용'] == 1][train_['이식된 배아 수'] != 0][train_['특시유_BLASTOCYST'] == 1].drop(columns=['DI시술방법']).drop(columns='probability')\n",
      "<ipython-input-40-c5511c054a62>:1: UserWarning: Boolean Series key will be reindexed to match DataFrame index.\n",
      "  X_BLASTOCYST = train_.drop(columns=[\"임신 성공 여부\"])[train_['시술 유형'] == 100][train_['배생이_현재 시술용'] == 1][train_['이식된 배아 수'] != 0][train_['특시유_BLASTOCYST'] == 1].drop(columns=['DI시술방법']).drop(columns='probability')\n",
      "<ipython-input-40-c5511c054a62>:1: UserWarning: Boolean Series key will be reindexed to match DataFrame index.\n",
      "  X_BLASTOCYST = train_.drop(columns=[\"임신 성공 여부\"])[train_['시술 유형'] == 100][train_['배생이_현재 시술용'] == 1][train_['이식된 배아 수'] != 0][train_['특시유_BLASTOCYST'] == 1].drop(columns=['DI시술방법']).drop(columns='probability')\n",
      "<ipython-input-40-c5511c054a62>:2: UserWarning: Boolean Series key will be reindexed to match DataFrame index.\n",
      "  y_BLASTOCYST = train_[train_['시술 유형'] == 100][train_['배생이_현재 시술용'] == 1][train_['이식된 배아 수'] != 0][train_['특시유_BLASTOCYST'] == 1]['임신 성공 여부']\n",
      "<ipython-input-40-c5511c054a62>:2: UserWarning: Boolean Series key will be reindexed to match DataFrame index.\n",
      "  y_BLASTOCYST = train_[train_['시술 유형'] == 100][train_['배생이_현재 시술용'] == 1][train_['이식된 배아 수'] != 0][train_['특시유_BLASTOCYST'] == 1]['임신 성공 여부']\n",
      "<ipython-input-40-c5511c054a62>:2: UserWarning: Boolean Series key will be reindexed to match DataFrame index.\n",
      "  y_BLASTOCYST = train_[train_['시술 유형'] == 100][train_['배생이_현재 시술용'] == 1][train_['이식된 배아 수'] != 0][train_['특시유_BLASTOCYST'] == 1]['임신 성공 여부']\n",
      "<ipython-input-40-c5511c054a62>:5: UserWarning: Boolean Series key will be reindexed to match DataFrame index.\n",
      "  X_test_BLASTOCYST = test_[test_['특시유_BLASTOCYST'] == 1][test_['이식된 배아 수'] != 0][test_['시술 유형'] == 100][test_['배생이_현재 시술용'] == 1].drop(columns=constant_columns).drop(columns=['DI시술방법']).drop(columns='probability')\n",
      "<ipython-input-40-c5511c054a62>:5: UserWarning: Boolean Series key will be reindexed to match DataFrame index.\n",
      "  X_test_BLASTOCYST = test_[test_['특시유_BLASTOCYST'] == 1][test_['이식된 배아 수'] != 0][test_['시술 유형'] == 100][test_['배생이_현재 시술용'] == 1].drop(columns=constant_columns).drop(columns=['DI시술방법']).drop(columns='probability')\n",
      "<ipython-input-40-c5511c054a62>:5: UserWarning: Boolean Series key will be reindexed to match DataFrame index.\n",
      "  X_test_BLASTOCYST = test_[test_['특시유_BLASTOCYST'] == 1][test_['이식된 배아 수'] != 0][test_['시술 유형'] == 100][test_['배생이_현재 시술용'] == 1].drop(columns=constant_columns).drop(columns=['DI시술방법']).drop(columns='probability')\n"
     ]
    }
   ],
   "source": [
    "X_BLASTOCYST = train_.drop(columns=[\"임신 성공 여부\"])[train_['시술 유형'] == 100][train_['배생이_현재 시술용'] == 1][train_['이식된 배아 수'] != 0][train_['특시유_BLASTOCYST'] == 1].drop(columns=['DI시술방법']).drop(columns='probability')\n",
    "y_BLASTOCYST = train_[train_['시술 유형'] == 100][train_['배생이_현재 시술용'] == 1][train_['이식된 배아 수'] != 0][train_['특시유_BLASTOCYST'] == 1]['임신 성공 여부']\n",
    "constant_columns = [col for col in X_BLASTOCYST.columns if X_BLASTOCYST[col].nunique() == 1]\n",
    "X_BLASTOCYST = X_BLASTOCYST.drop(columns=constant_columns)\n",
    "X_test_BLASTOCYST = test_[test_['특시유_BLASTOCYST'] == 1][test_['이식된 배아 수'] != 0][test_['시술 유형'] == 100][test_['배생이_현재 시술용'] == 1].drop(columns=constant_columns).drop(columns=['DI시술방법']).drop(columns='probability')"
   ]
  },
  {
   "cell_type": "code",
   "execution_count": 41,
   "metadata": {
    "execution": {
     "iopub.execute_input": "2025-02-27T03:54:17.839908Z",
     "iopub.status.busy": "2025-02-27T03:54:17.839657Z",
     "iopub.status.idle": "2025-02-27T03:54:18.008549Z",
     "shell.execute_reply": "2025-02-27T03:54:18.007523Z",
     "shell.execute_reply.started": "2025-02-27T03:54:17.839888Z"
    },
    "trusted": true
   },
   "outputs": [],
   "source": [
    "best_params = {'n_estimators': 47, 'max_depth': 4, 'min_child_weight': 214, 'subsample': 0.8720615036283587, 'colsample_bynode': 0.6446105555057425, 'learning_rate': 0.8878810016000835, 'colsample_bytree': 0.917469599745884}\n",
    "\n",
    "xgb_best_model_BLASTOCYST = XGBClassifier(\n",
    "    **best_params,\n",
    "    random_state=42,\n",
    "    verbosity=0,\n",
    ")\n",
    "\n",
    "xgb_best_model_BLASTOCYST.fit(X_BLASTOCYST, y_BLASTOCYST)\n",
    "xgb_pred_BLASTOCYST = xgb_best_model_BLASTOCYST.predict_proba(X_test_BLASTOCYST)[:, 1]\n",
    "xgb_train_BLASTOCYST = xgb_best_model_BLASTOCYST.predict_proba(X_BLASTOCYST)[:, 1]"
   ]
  },
  {
   "cell_type": "code",
   "execution_count": 42,
   "metadata": {
    "execution": {
     "iopub.execute_input": "2025-02-27T03:54:18.009502Z",
     "iopub.status.busy": "2025-02-27T03:54:18.009199Z",
     "iopub.status.idle": "2025-02-27T03:54:18.051486Z",
     "shell.execute_reply": "2025-02-27T03:54:18.050173Z",
     "shell.execute_reply.started": "2025-02-27T03:54:18.009476Z"
    },
    "trusted": true
   },
   "outputs": [],
   "source": [
    "best_params = {'n_estimators': 2, 'learning_rate': 0.568446956023203, 'feature_fraction': 0.3351344143816874, 'min_data_in_leaf': 49, 'num_leaves': 21, 'bagging_freq': 2}\n",
    "lgbm_best_model_BLASTOCYST = LGBMClassifier(**best_params, random_state=42, verbose=-1)\n",
    "lgbm_best_model_BLASTOCYST.fit(X_BLASTOCYST, y_BLASTOCYST)\n",
    "\n",
    "lgbm_pred_BLASTOCYST = lgbm_best_model_BLASTOCYST.predict_proba(X_test_BLASTOCYST)[:, 1]\n",
    "lgbm_train_BLASTOCYST = lgbm_best_model_BLASTOCYST.predict_proba(X_BLASTOCYST)[:, 1]"
   ]
  },
  {
   "cell_type": "code",
   "execution_count": 43,
   "metadata": {
    "execution": {
     "iopub.execute_input": "2025-02-27T03:54:18.052977Z",
     "iopub.status.busy": "2025-02-27T03:54:18.052640Z",
     "iopub.status.idle": "2025-02-27T03:54:18.168641Z",
     "shell.execute_reply": "2025-02-27T03:54:18.167732Z",
     "shell.execute_reply.started": "2025-02-27T03:54:18.052949Z"
    },
    "trusted": true
   },
   "outputs": [],
   "source": [
    "train_pool = Pool(X_BLASTOCYST, y_BLASTOCYST)\n",
    "test_pool = Pool(X_test_BLASTOCYST)\n",
    "\n",
    "best_params =  {'iterations': 50, 'depth': 1, 'learning_rate': 0.9995518350903149, 'min_data_in_leaf': 973, 'rsm': 0.7009250500733488, 'border_count': 3, 'one_hot_max_size': 43}\n",
    "cat_best_model_BLASTOCYST = CatBoostClassifier(\n",
    "    **best_params,\n",
    "    verbose=0,\n",
    "    random_seed=42,\n",
    ")\n",
    "\n",
    "cat_best_model_BLASTOCYST.fit(      \n",
    "        train_pool,\n",
    "        verbose=0,\n",
    "    )\n",
    "\n",
    "cat_pred_BLASTOCYST = cat_best_model_BLASTOCYST.predict_proba(test_pool)[:, 1]\n",
    "cat_train_BLASTOCYST = cat_best_model_BLASTOCYST.predict_proba(train_pool)[:, 1]"
   ]
  },
  {
   "cell_type": "code",
   "execution_count": 44,
   "metadata": {
    "execution": {
     "iopub.execute_input": "2025-02-27T03:54:18.170087Z",
     "iopub.status.busy": "2025-02-27T03:54:18.169719Z",
     "iopub.status.idle": "2025-02-27T03:54:18.182825Z",
     "shell.execute_reply": "2025-02-27T03:54:18.181739Z",
     "shell.execute_reply.started": "2025-02-27T03:54:18.170053Z"
    },
    "trusted": true
   },
   "outputs": [],
   "source": [
    "# 세 모델의 확률 Soft Voting Ensemble\n",
    "a, b, c = (1, 1, 1)\n",
    "ens_test_BLASTOCYST = (a * lgbm_pred_BLASTOCYST + b * xgb_pred_BLASTOCYST + c *  cat_pred_BLASTOCYST) / (a + b + c)\n",
    "test_.loc[(test_['특시유_BLASTOCYST'] == 1) & (test_['배생이_현재 시술용'] == 1) & (test_['이식된 배아 수'] != 0), 'probability'] = ens_test_BLASTOCYST\n",
    "\n",
    "# 세 모델의 확률 Soft Voting Ensemble\n",
    "a, b, c = (1, 1, 1)\n",
    "ens_train_BLASTOCYST = (a * lgbm_train_BLASTOCYST + b * xgb_train_BLASTOCYST + c *  cat_train_BLASTOCYST) / (a + b + c)\n",
    "train.loc[(train['특시유_BLASTOCYST'] == 1) & (train['배생이_현재 시술용'] == 1) & (train['이식된 배아 수'] != 0), 'probability'] = ens_train_BLASTOCYST"
   ]
  },
  {
   "cell_type": "markdown",
   "metadata": {},
   "source": [
    "### 5-7. AH"
   ]
  },
  {
   "cell_type": "code",
   "execution_count": 45,
   "metadata": {
    "execution": {
     "iopub.execute_input": "2025-02-27T03:54:18.184288Z",
     "iopub.status.busy": "2025-02-27T03:54:18.183982Z",
     "iopub.status.idle": "2025-02-27T03:54:18.429566Z",
     "shell.execute_reply": "2025-02-27T03:54:18.428635Z",
     "shell.execute_reply.started": "2025-02-27T03:54:18.184263Z"
    },
    "trusted": true
   },
   "outputs": [
    {
     "name": "stderr",
     "output_type": "stream",
     "text": [
      "<ipython-input-45-f4a8d32a10af>:1: UserWarning: Boolean Series key will be reindexed to match DataFrame index.\n",
      "  X_AH = train_[train_['특시유_AH'] == 1][train_['이식된 배아 수'] != 0].drop(columns=[\"임신 성공 여부\"])[train_['시술 유형'] == 100][train_['배생이_현재 시술용'] == 1].drop(columns=['DI시술방법']).drop(columns='probability')\n",
      "<ipython-input-45-f4a8d32a10af>:1: UserWarning: Boolean Series key will be reindexed to match DataFrame index.\n",
      "  X_AH = train_[train_['특시유_AH'] == 1][train_['이식된 배아 수'] != 0].drop(columns=[\"임신 성공 여부\"])[train_['시술 유형'] == 100][train_['배생이_현재 시술용'] == 1].drop(columns=['DI시술방법']).drop(columns='probability')\n",
      "<ipython-input-45-f4a8d32a10af>:1: UserWarning: Boolean Series key will be reindexed to match DataFrame index.\n",
      "  X_AH = train_[train_['특시유_AH'] == 1][train_['이식된 배아 수'] != 0].drop(columns=[\"임신 성공 여부\"])[train_['시술 유형'] == 100][train_['배생이_현재 시술용'] == 1].drop(columns=['DI시술방법']).drop(columns='probability')\n",
      "<ipython-input-45-f4a8d32a10af>:2: UserWarning: Boolean Series key will be reindexed to match DataFrame index.\n",
      "  y_AH = train_[train_['특시유_AH'] == 1][train_['이식된 배아 수'] != 0][train_['시술 유형'] == 100][train_['배생이_현재 시술용'] == 1][\"임신 성공 여부\"]\n",
      "<ipython-input-45-f4a8d32a10af>:2: UserWarning: Boolean Series key will be reindexed to match DataFrame index.\n",
      "  y_AH = train_[train_['특시유_AH'] == 1][train_['이식된 배아 수'] != 0][train_['시술 유형'] == 100][train_['배생이_현재 시술용'] == 1][\"임신 성공 여부\"]\n",
      "<ipython-input-45-f4a8d32a10af>:2: UserWarning: Boolean Series key will be reindexed to match DataFrame index.\n",
      "  y_AH = train_[train_['특시유_AH'] == 1][train_['이식된 배아 수'] != 0][train_['시술 유형'] == 100][train_['배생이_현재 시술용'] == 1][\"임신 성공 여부\"]\n",
      "<ipython-input-45-f4a8d32a10af>:6: UserWarning: Boolean Series key will be reindexed to match DataFrame index.\n",
      "  X_test_AH = test_[test_['시술 유형'] == 100][test_['배생이_현재 시술용'] == 1][test_['특시유_AH'] == 1][test_['이식된 배아 수'] != 0].drop(columns=constant_columns).drop(columns=['DI시술방법']).drop(columns='probability')\n",
      "<ipython-input-45-f4a8d32a10af>:6: UserWarning: Boolean Series key will be reindexed to match DataFrame index.\n",
      "  X_test_AH = test_[test_['시술 유형'] == 100][test_['배생이_현재 시술용'] == 1][test_['특시유_AH'] == 1][test_['이식된 배아 수'] != 0].drop(columns=constant_columns).drop(columns=['DI시술방법']).drop(columns='probability')\n",
      "<ipython-input-45-f4a8d32a10af>:6: UserWarning: Boolean Series key will be reindexed to match DataFrame index.\n",
      "  X_test_AH = test_[test_['시술 유형'] == 100][test_['배생이_현재 시술용'] == 1][test_['특시유_AH'] == 1][test_['이식된 배아 수'] != 0].drop(columns=constant_columns).drop(columns=['DI시술방법']).drop(columns='probability')\n"
     ]
    }
   ],
   "source": [
    "X_AH = train_[train_['특시유_AH'] == 1][train_['이식된 배아 수'] != 0].drop(columns=[\"임신 성공 여부\"])[train_['시술 유형'] == 100][train_['배생이_현재 시술용'] == 1].drop(columns=['DI시술방법']).drop(columns='probability')\n",
    "y_AH = train_[train_['특시유_AH'] == 1][train_['이식된 배아 수'] != 0][train_['시술 유형'] == 100][train_['배생이_현재 시술용'] == 1][\"임신 성공 여부\"]\n",
    "constant_columns = [col for col in X_AH.columns if X_AH[col].nunique() == 1]\n",
    "\n",
    "X_AH = X_AH.drop(columns=constant_columns)\n",
    "X_test_AH = test_[test_['시술 유형'] == 100][test_['배생이_현재 시술용'] == 1][test_['특시유_AH'] == 1][test_['이식된 배아 수'] != 0].drop(columns=constant_columns).drop(columns=['DI시술방법']).drop(columns='probability')"
   ]
  },
  {
   "cell_type": "code",
   "execution_count": 46,
   "metadata": {
    "execution": {
     "iopub.execute_input": "2025-02-27T03:54:18.430848Z",
     "iopub.status.busy": "2025-02-27T03:54:18.430491Z",
     "iopub.status.idle": "2025-02-27T03:54:18.522581Z",
     "shell.execute_reply": "2025-02-27T03:54:18.521772Z",
     "shell.execute_reply.started": "2025-02-27T03:54:18.430814Z"
    },
    "trusted": true
   },
   "outputs": [],
   "source": [
    "best_params = {'n_estimators': 16, 'max_depth': 1, 'min_child_weight': 18, 'subsample': 0.9665626084699487, 'colsample_bynode': 0.8749543188162278, 'learning_rate': 0.8422386595268349, 'colsample_bytree': 0.3635217907528703}\n",
    "\n",
    "xgb_best_model_AH = XGBClassifier(\n",
    "    **best_params,\n",
    "    random_state=42,\n",
    "    verbosity=0,\n",
    ")\n",
    "\n",
    "xgb_best_model_AH.fit(X_AH, y_AH)\n",
    "xgb_pred_AH = xgb_best_model_AH.predict_proba(X_test_AH)[:, 1]\n",
    "xgb_train_AH = xgb_best_model_AH.predict_proba(X_AH)[:, 1]"
   ]
  },
  {
   "cell_type": "code",
   "execution_count": 47,
   "metadata": {
    "execution": {
     "iopub.execute_input": "2025-02-27T03:54:18.523435Z",
     "iopub.status.busy": "2025-02-27T03:54:18.523164Z",
     "iopub.status.idle": "2025-02-27T03:54:18.549018Z",
     "shell.execute_reply": "2025-02-27T03:54:18.548151Z",
     "shell.execute_reply.started": "2025-02-27T03:54:18.523387Z"
    },
    "trusted": true
   },
   "outputs": [],
   "source": [
    "best_params = {'n_estimators': 2, 'learning_rate': 0.35837002632562415, 'feature_fraction': 0.6533029668795871, 'min_data_in_leaf': 87, 'num_leaves': 42, 'bagging_freq': 4}\n",
    "lgbm_best_model_AH = LGBMClassifier(**best_params, random_state=42, verbose=-1)\n",
    "lgbm_best_model_AH.fit(X_AH, y_AH)\n",
    "\n",
    "lgbm_pred_AH = lgbm_best_model_AH.predict_proba(X_test_AH)[:, 1]\n",
    "lgbm_train_AH = lgbm_best_model_AH.predict_proba(X_AH)[:, 1]"
   ]
  },
  {
   "cell_type": "code",
   "execution_count": 48,
   "metadata": {
    "execution": {
     "iopub.execute_input": "2025-02-27T03:54:18.550319Z",
     "iopub.status.busy": "2025-02-27T03:54:18.549950Z",
     "iopub.status.idle": "2025-02-27T03:54:18.602515Z",
     "shell.execute_reply": "2025-02-27T03:54:18.601523Z",
     "shell.execute_reply.started": "2025-02-27T03:54:18.550280Z"
    },
    "trusted": true
   },
   "outputs": [],
   "source": [
    "train_pool = Pool(X_AH, y_AH)\n",
    "test_pool = Pool(X_test_AH)\n",
    "\n",
    "best_params =  {'iterations': 9, 'depth': 2, 'learning_rate': 0.9946932992610313, 'rsm': 0.9065280177387596, 'min_data_in_leaf': 15, 'border_count': 131, 'one_hot_max_size': 9}\n",
    "cat_best_model_AH = CatBoostClassifier(\n",
    "    **best_params,\n",
    "    verbose=0,\n",
    "    random_seed=42,\n",
    "    eval_metric=\"Logloss\",\n",
    ")\n",
    "\n",
    "cat_best_model_AH.fit(      \n",
    "        train_pool,\n",
    "        verbose=0,\n",
    ")\n",
    "\n",
    "cat_pred_AH = cat_best_model_AH.predict_proba(test_pool)[:, 1]\n",
    "cat_train_AH = cat_best_model_AH.predict_proba(train_pool)[:, 1]"
   ]
  },
  {
   "cell_type": "code",
   "execution_count": 49,
   "metadata": {
    "execution": {
     "iopub.execute_input": "2025-02-27T03:54:18.603877Z",
     "iopub.status.busy": "2025-02-27T03:54:18.603522Z",
     "iopub.status.idle": "2025-02-27T03:54:18.616733Z",
     "shell.execute_reply": "2025-02-27T03:54:18.615805Z",
     "shell.execute_reply.started": "2025-02-27T03:54:18.603843Z"
    },
    "trusted": true
   },
   "outputs": [],
   "source": [
    "# 세 모델의 확률 Soft Voting Ensemble\n",
    "a, b, c = (1, 1, 1)\n",
    "ens_test_AH = (a * lgbm_pred_AH + b * xgb_pred_AH + c * cat_pred_AH) / (a + b + c)\n",
    "test_.loc[(test_['특시유_AH'] == 1) & (test_['배생이_현재 시술용'] == 1) & (test_['이식된 배아 수'] != 0), 'probability'] = ens_test_AH\n",
    "\n",
    "# 세 모델의 확률 Soft Voting Ensemble\n",
    "a, b, c = (1, 1, 1)\n",
    "ens_train_AH = (a * lgbm_train_AH + b * xgb_train_AH + c *  cat_train_AH) / (a + b + c)\n",
    "train.loc[(train['특시유_AH'] == 1) & (train['배생이_현재 시술용'] == 1) & (train['이식된 배아 수'] != 0), 'probability'] = ens_train_AH"
   ]
  },
  {
   "cell_type": "markdown",
   "metadata": {},
   "source": [
    "### 6.Inference\n",
    "- 제출물 test를 받아 확률을 예측하고 제출 파일을 생성한다.\n",
    "- Train에 대한 확률에 대해서 IsotonicRegression을 학습시켜, test의 probability를 Calibration 한다."
   ]
  },
  {
   "cell_type": "code",
   "execution_count": null,
   "metadata": {
    "execution": {
     "iopub.execute_input": "2025-02-27T03:54:18.618019Z",
     "iopub.status.busy": "2025-02-27T03:54:18.617661Z",
     "iopub.status.idle": "2025-02-27T03:54:18.708050Z",
     "shell.execute_reply": "2025-02-27T03:54:18.706998Z",
     "shell.execute_reply.started": "2025-02-27T03:54:18.617981Z"
    },
    "trusted": true
   },
   "outputs": [
    {
     "name": "stderr",
     "output_type": "stream",
     "text": [
      "<ipython-input-50-64a2491b5f4f>:20: PerformanceWarning: DataFrame is highly fragmented.  This is usually the result of calling `frame.insert` many times, which has poor performance.  Consider joining all columns at once using pd.concat(axis=1) instead. To get a de-fragmented frame, use `newframe = frame.copy()`\n",
      "  train.loc[:, 'probability_calibrated'] = train_prob_calibrated\n",
      "<ipython-input-50-64a2491b5f4f>:24: PerformanceWarning: DataFrame is highly fragmented.  This is usually the result of calling `frame.insert` many times, which has poor performance.  Consider joining all columns at once using pd.concat(axis=1) instead. To get a de-fragmented frame, use `newframe = frame.copy()`\n",
      "  test_.loc[:, 'probability_calibrated'] = test_prob_calibrated\n",
      "<ipython-input-50-64a2491b5f4f>:24: SettingWithCopyWarning: \n",
      "A value is trying to be set on a copy of a slice from a DataFrame.\n",
      "Try using .loc[row_indexer,col_indexer] = value instead\n",
      "\n",
      "See the caveats in the documentation: https://pandas.pydata.org/pandas-docs/stable/user_guide/indexing.html#returning-a-view-versus-a-copy\n",
      "  test_.loc[:, 'probability_calibrated'] = test_prob_calibrated\n"
     ]
    }
   ],
   "source": [
    "import numpy as np\n",
    "from sklearn.isotonic import IsotonicRegression\n",
    "\n",
    "# Calibration을 진행함. Train의 확률을 바탕으로, 예측되어진 Test의 확률을 보정함.\n",
    "# Train중 절반의 데이터셋만 샘플링하여, isotonic Regression을 진행\n",
    "rng = np.random.default_rng(2002) # 대한민국의 4강신화는 다시올수있을까\n",
    "\n",
    "train_prob = np.array(train['probability'])\n",
    "train_labels = np.array(train['임신 성공 여부'])\n",
    "\n",
    "sample_size = int(0.5 * len(train_prob))\n",
    "sample_indices = rng.choice(len(train_prob), size=sample_size, replace=False)\n",
    "train_prob_sampled = train_prob[sample_indices]\n",
    "train_labels_sampled = train_labels[sample_indices]\n",
    "\n",
    "iso_reg = IsotonicRegression(out_of_bounds='clip')\n",
    "iso_reg.fit(train_prob_sampled, train_labels_sampled)\n",
    "\n",
    "train_prob_calibrated = iso_reg.transform(train_prob)\n",
    "train.loc[:, 'probability_calibrated'] = train_prob_calibrated\n",
    "\n",
    "test_prob = np.array(test_['probability'])\n",
    "test_prob_calibrated = iso_reg.transform(test_prob)\n",
    "test_.loc[:, 'probability_calibrated'] = test_prob_calibrated"
   ]
  },
  {
   "cell_type": "code",
   "execution_count": null,
   "metadata": {
    "execution": {
     "iopub.execute_input": "2025-02-27T03:54:18.709486Z",
     "iopub.status.busy": "2025-02-27T03:54:18.709091Z",
     "iopub.status.idle": "2025-02-27T03:54:18.973911Z",
     "shell.execute_reply": "2025-02-27T03:54:18.973084Z",
     "shell.execute_reply.started": "2025-02-27T03:54:18.709449Z"
    },
    "trusted": true
   },
   "outputs": [
    {
     "name": "stdout",
     "output_type": "stream",
     "text": [
      "<class 'pandas.core.frame.DataFrame'>\n",
      "RangeIndex: 90067 entries, 0 to 90066\n",
      "Data columns (total 2 columns):\n",
      " #   Column       Non-Null Count  Dtype  \n",
      "---  ------       --------------  -----  \n",
      " 0   ID           90067 non-null  object \n",
      " 1   probability  90067 non-null  float64\n",
      "dtypes: float64(1), object(1)\n",
      "memory usage: 1.4+ MB\n"
     ]
    }
   ],
   "source": [
    "df_sub[\"probability\"] = test_['probability_calibrated']\n",
    "df_sub.to_csv(\"submission.csv\", index=False)\n",
    "df_sub.info()"
   ]
  },
  {
   "cell_type": "markdown",
   "metadata": {},
   "source": [
    "### A.검증용 성적계산\n",
    "- 하단 점수가 같으면, 같은 결과가 나왔다고 볼 수 있습니다."
   ]
  },
  {
   "cell_type": "code",
   "execution_count": 55,
   "metadata": {
    "execution": {
     "iopub.execute_input": "2025-02-27T03:54:27.722452Z",
     "iopub.status.busy": "2025-02-27T03:54:27.722074Z",
     "iopub.status.idle": "2025-02-27T03:54:27.829542Z",
     "shell.execute_reply": "2025-02-27T03:54:27.828574Z",
     "shell.execute_reply.started": "2025-02-27T03:54:27.722423Z"
    },
    "trusted": true
   },
   "outputs": [
    {
     "data": {
      "text/plain": [
       "0.7514802887078333"
      ]
     },
     "execution_count": 55,
     "metadata": {},
     "output_type": "execute_result"
    }
   ],
   "source": [
    "from sklearn.metrics import (\n",
    "    accuracy_score,\n",
    "    classification_report,\n",
    "    confusion_matrix,\n",
    "    f1_score,\n",
    "    precision_score,\n",
    "    recall_score,\n",
    "    make_scorer,\n",
    "    roc_curve,\n",
    "    auc,\n",
    "    precision_recall_curve,\n",
    "    roc_auc_score,\n",
    "    silhouette_score\n",
    ")\n",
    "\n",
    "roc_auc_score(train['임신 성공 여부'], train['probability']) # 0.7514802887078333"
   ]
  },
  {
   "cell_type": "code",
   "execution_count": 56,
   "metadata": {
    "execution": {
     "iopub.execute_input": "2025-02-27T03:54:27.913218Z",
     "iopub.status.busy": "2025-02-27T03:54:27.912832Z",
     "iopub.status.idle": "2025-02-27T03:54:27.960540Z",
     "shell.execute_reply": "2025-02-27T03:54:27.959499Z",
     "shell.execute_reply.started": "2025-02-27T03:54:27.913175Z"
    },
    "trusted": true
   },
   "outputs": [
    {
     "data": {
      "text/plain": [
       "0.7310932254493416"
      ]
     },
     "execution_count": 56,
     "metadata": {},
     "output_type": "execute_result"
    }
   ],
   "source": [
    "roc_auc_score(train[train['시술 유형'] == -100]['임신 성공 여부'], train[train['시술 유형'] == -100]['probability_calibrated']) # 0.7310932254493416"
   ]
  },
  {
   "cell_type": "code",
   "execution_count": 57,
   "metadata": {
    "execution": {
     "iopub.execute_input": "2025-02-27T03:54:28.090879Z",
     "iopub.status.busy": "2025-02-27T03:54:28.090536Z",
     "iopub.status.idle": "2025-02-27T03:54:28.817430Z",
     "shell.execute_reply": "2025-02-27T03:54:28.816363Z",
     "shell.execute_reply.started": "2025-02-27T03:54:28.090853Z"
    },
    "trusted": true
   },
   "outputs": [
    {
     "data": {
      "text/plain": [
       "0.7496462189217733"
      ]
     },
     "execution_count": 57,
     "metadata": {},
     "output_type": "execute_result"
    }
   ],
   "source": [
    "roc_auc_score(train[train['시술 유형'] == 100]['임신 성공 여부'], train[train['시술 유형'] == 100]['probability_calibrated']) # 0.7496462189217733"
   ]
  },
  {
   "cell_type": "markdown",
   "metadata": {},
   "source": [
    "- (이외에 다른점이 있던 라이브러리 목록입니다. 검증이 틀려지게 된다면, 하단 라이브러리까지 고려해주시길 바랍니다.)\n",
    "- fonttools==4.55.3\n",
    "- kiwisolver==1.4.7\n",
    "- narwhals==1.18.4\n",
    "- pillow==11.0.0\n",
    "- plotly==5.24.1\n",
    "- types-python-dateutil==2.9.0.20241206\n",
    "- types-pytz==2024.2.0.20241003\n",
    "- tzdata==2024.2\n",
    "- pip install fonttools==4.55.3 kiwisolver==1.4.7 narwhals==1.18.4 pillow==11.0.0 plotly==5.24.1 types-python-dateutil==2.9.0.20241206 types-pytz==2024.2.0.20241003 tzdata==2024.2\n"
   ]
  }
 ],
 "metadata": {
  "kaggle": {
   "accelerator": "none",
   "dataSources": [
    {
     "datasetId": 6750426,
     "sourceId": 10865942,
     "sourceType": "datasetVersion"
    }
   ],
   "dockerImageVersionId": 30839,
   "isGpuEnabled": false,
   "isInternetEnabled": true,
   "language": "python",
   "sourceType": "notebook"
  },
  "kernelspec": {
   "display_name": "Python 3",
   "language": "python",
   "name": "python3"
  },
  "language_info": {
   "codemirror_mode": {
    "name": "ipython",
    "version": 3
   },
   "file_extension": ".py",
   "mimetype": "text/x-python",
   "name": "python",
   "nbconvert_exporter": "python",
   "pygments_lexer": "ipython3",
   "version": "3.10.12"
  }
 },
 "nbformat": 4,
 "nbformat_minor": 4
}
