{
 "cells": [
  {
   "cell_type": "markdown",
   "metadata": {},
   "source": [
    "# 데이터 로드"
   ]
  },
  {
   "cell_type": "code",
   "execution_count": null,
   "metadata": {
    "execution": {
     "iopub.execute_input": "2025-02-16T13:28:32.139425Z",
     "iopub.status.busy": "2025-02-16T13:28:32.139071Z",
     "iopub.status.idle": "2025-02-16T13:28:40.978533Z",
     "shell.execute_reply": "2025-02-16T13:28:40.977406Z",
     "shell.execute_reply.started": "2025-02-16T13:28:32.139395Z"
    },
    "trusted": true
   },
   "outputs": [],
   "source": [
    "import os\n",
    "import random\n",
    "import string\n",
    "\n",
    "import numpy as np\n",
    "import pandas as pd\n",
    "import seaborn as sns\n",
    "import matplotlib.pyplot as plt\n",
    "import torch\n",
    "\n",
    "# scikit-learn\n",
    "from sklearn.datasets import fetch_openml\n",
    "from sklearn.model_selection import (\n",
    "    train_test_split,\n",
    "    StratifiedKFold,\n",
    "    GridSearchCV,\n",
    "    cross_val_score\n",
    ")\n",
    "from sklearn.preprocessing import (\n",
    "    LabelEncoder,\n",
    "    OneHotEncoder,\n",
    "    OrdinalEncoder\n",
    ")\n",
    "from sklearn.metrics import (\n",
    "    accuracy_score,\n",
    "    classification_report,\n",
    "    confusion_matrix,\n",
    "    f1_score,\n",
    "    precision_score,\n",
    "    recall_score,\n",
    "    make_scorer,\n",
    "    roc_curve,\n",
    "    auc,\n",
    "    precision_recall_curve,\n",
    "    roc_auc_score,\n",
    "    silhouette_score\n",
    ")\n",
    "from sklearn.calibration import CalibratedClassifierCV\n",
    "\n",
    "# xgboost\n",
    "import xgboost as xgb\n",
    "from xgboost import XGBClassifier\n",
    "\n",
    "# lightgbm\n",
    "import lightgbm as lgb\n",
    "from lightgbm import LGBMClassifier, plot_metric\n",
    "\n",
    "# catboost\n",
    "from catboost import CatBoostClassifier, Pool\n",
    "\n",
    "# optuna\n",
    "import optuna\n",
    "from optuna.samplers import TPESampler\n",
    "\n",
    "import os\n",
    "\n",
    "# 랜덤 시드 설정\n",
    "SEED = 42\n",
    "random.seed(SEED)\n",
    "np.random.seed(SEED)\n",
    "os.environ[\"PYTHONHASHSEED\"] = str(SEED)\n",
    "os.environ[\"CUDA_LAUNCH_BLOCKING\"] = \"1\"\n",
    "os.environ[\"CUBLAS_WORKSPACE_CONFIG\"] = \":16:8\"\n",
    "\n",
    "train = pd.read_csv('/kaggle/input/train.csv').drop(columns='ID')\n",
    "test = pd.read_csv('/kaggle/input/test.csv').drop(columns='ID')\n",
   ]
  }
 ],
 "metadata": {
  "kaggle": {
   "accelerator": "none",
   "dataSources": [
    {
     "datasetId": 6613729,
     "sourceId": 10676950,
     "sourceType": "datasetVersion"
    },
    {
     "datasetId": 6584095,
     "sourceId": 10705257,
     "sourceType": "datasetVersion"
    },
    {
     "datasetId": 6637868,
     "sourceId": 10710034,
     "sourceType": "datasetVersion"
    },
    {
     "datasetId": 6640510,
     "sourceId": 10713539,
     "sourceType": "datasetVersion"
    }
   ],
   "dockerImageVersionId": 30840,
   "isGpuEnabled": false,
   "isInternetEnabled": true,
   "language": "python",
   "sourceType": "notebook"
  },
  "kernelspec": {
   "display_name": "Python 3",
   "language": "python",
   "name": "python3"
  },
  "language_info": {
   "codemirror_mode": {
    "name": "ipython",
    "version": 3
   },
   "file_extension": ".py",
   "mimetype": "text/x-python",
   "name": "python",
   "nbconvert_exporter": "python",
   "pygments_lexer": "ipython3",
   "version": "3.10.12"
  }
 },
 "nbformat": 4,
 "nbformat_minor": 4
}
